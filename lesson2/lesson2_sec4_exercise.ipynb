{
 "cells": [
  {
   "cell_type": "markdown",
   "metadata": {},
   "source": [
    "# Lesson2 畳み込みニューラルネットワーク (CNN)"
   ]
  },
  {
   "cell_type": "markdown",
   "metadata": {},
   "source": [
    "## 目次\n",
    "\n",
    "- Section1 解説\n",
    "  - 1.1 CNN基礎\n",
    "  - 1.2 Convolution(畳み込み)層\n",
    "  - 1.3 Pooling(プーリング)層\n",
    "  - 1.4 確認問題\n",
    "- Section2 実装①\n",
    "  - 2.1 Fasion MNISTをCNNでクラス分類\n",
    "  - 2.2 CIFAR10のデータをCNNでクラス分類\n",
    "- Section3 テクニック・発展内容\n",
    "  - 3.1 Data Augmentation\n",
    "  - 3.2 画像データの正規化\n",
    "  - 3.3 Batch Normalization\n",
    "  - 3.4 Skip Connection  (Residual Network)\n",
    "  - 3.5 学習済みネットワークの利用\n",
    "  - 3.6 学習させたモデルの保存・再利用\n",
    "  - 3.7 確認問題\n",
    "- Section4 実装②\n",
    "  - 4.1 CIFAR10のデータをCNNでクラス分類②\n",
    "- Section5 ケーススタディ"
   ]
  },
  {
   "cell_type": "markdown",
   "metadata": {},
   "source": [
    "## 3.7 の解答\n",
    "\n",
    "問1: ② 問2: ① 問3: ① 問4: ①"
   ]
  },
  {
   "cell_type": "code",
   "execution_count": 1,
   "metadata": {},
   "outputs": [],
   "source": [
    "%matplotlib inline\n",
    "\n",
    "import os\n",
    "\n",
    "import tensorflow.keras as keras\n",
    "import numpy as np\n",
    "import matplotlib.pyplot as plt\n",
    "\n",
    "from tensorflow.keras.layers import Dense, Conv2D, MaxPooling2D, Flatten, Input, Activation, add, Add, Dropout, BatchNormalization\n",
    "from tensorflow.keras.callbacks import EarlyStopping\n",
    "from tensorflow.keras.models import Sequential, Model\n",
    "from tensorflow.keras.datasets import cifar10\n",
    "from tensorflow.keras.datasets import fashion_mnist\n",
    "from tensorflow.keras.utils import to_categorical\n",
    "from sklearn.model_selection import train_test_split\n",
    "\n",
    "from IPython.display import SVG\n",
    "from tensorflow.python.keras.utils.vis_utils import model_to_dot\n",
    "from tensorflow.keras.preprocessing.image import ImageDataGenerator\n",
    "\n",
    "random_state = 42"
   ]
  },
  {
   "cell_type": "markdown",
   "metadata": {},
   "source": [
    "## Section4 実装②"
   ]
  },
  {
   "cell_type": "markdown",
   "metadata": {},
   "source": [
    "### 4.1 CIFAR10のデータをCNNでクラス分類②"
   ]
  },
  {
   "cell_type": "code",
   "execution_count": 2,
   "metadata": {},
   "outputs": [],
   "source": [
    "(x_train, y_train), (x_test, y_test) = cifar10.load_data()\n",
    "\n",
    "x_train = x_train.astype('float32') / 255\n",
    "y_train = np.eye(10)[y_train.astype('int32').flatten()]\n",
    "\n",
    "x_test = x_test.astype('float32') / 255\n",
    "y_test = np.eye(10)[y_test.astype('int32').flatten()]\n",
    "\n",
    "x_train, x_valid, y_train, y_valid = train_test_split(\n",
    "    x_train, y_train, test_size=10000)"
   ]
  },
  {
   "cell_type": "markdown",
   "metadata": {},
   "source": [
    "Section3の学習内容も踏まえて、CIFAR10のクラス分類を行いたいと思います。\n",
    "\n",
    "まず、モデルの作成を行います。"
   ]
  },
  {
   "cell_type": "code",
   "execution_count": 3,
   "metadata": {},
   "outputs": [
    {
     "name": "stdout",
     "output_type": "stream",
     "text": [
      "WARNING:tensorflow:From /usr/local/var/pyenv/versions/3.6.0/lib/python3.6/site-packages/tensorflow/python/ops/resource_variable_ops.py:435: colocate_with (from tensorflow.python.framework.ops) is deprecated and will be removed in a future version.\n",
      "Instructions for updating:\n",
      "Colocations handled automatically by placer.\n"
     ]
    }
   ],
   "source": [
    "model = Sequential()\n",
    "\n",
    "model.add(Conv2D(6, kernel_size=(5, 5), activation='relu',\n",
    "                 kernel_initializer='he_normal', input_shape=(32, 32, 3)))  # 32x32x3 -> 28x28x6\n",
    "model.add(MaxPooling2D(pool_size=(2, 2)))  # 28x28x6 -> 14x14x6\n",
    "model.add(Conv2D(16, kernel_size=(5, 5), activation='relu',\n",
    "                 kernel_initializer='he_normal'))  # 14x14x6 -> 10x10x16\n",
    "model.add(MaxPooling2D(pool_size=(2, 2)))  # 10x10x16 -> 5x5x16\n",
    "\n",
    "model.add(Flatten())  # 5x5x16 -> 400\n",
    "model.add(Dense(120, activation='relu',\n",
    "                kernel_initializer='he_normal'))  # 400 ->120\n",
    "model.add(Dense(84, activation='relu', kernel_initializer='he_normal'))  # 120 ->84\n",
    "model.add(Dense(10, activation='softmax'))  # 84 ->10\n",
    "\n",
    "model.compile(\n",
    "    loss=keras.losses.categorical_crossentropy,\n",
    "    optimizer='adam',\n",
    "    metrics=['accuracy']\n",
    ")"
   ]
  },
  {
   "cell_type": "markdown",
   "metadata": {},
   "source": [
    "次に、Section3で学習したDataAugumentationや画像データの正規化を学習に反映させてみます。\n",
    "\n",
    "kerasのImageDataGeneratorを使用します。"
   ]
  },
  {
   "cell_type": "code",
   "execution_count": 4,
   "metadata": {},
   "outputs": [],
   "source": [
    "datagen = ImageDataGenerator(\n",
    "    width_shift_range=0.2,  # 3.1.1 左右にずらす\n",
    "    height_shift_range=0.2,  # 3.1.2 上下にずらす\n",
    "    horizontal_flip=True,  # 3.1.3 左右反転\n",
    "    # 3.2.1 Global Contrast Normalization (GCN) (Falseに設定しているのでここでは使用していない)\n",
    "    samplewise_center=False,\n",
    "    samplewise_std_normalization=False,\n",
    "    zca_whitening=False)  # 3.2.2 Zero-phase Component Analysis (ZCA) Whitening (Falseに設定しているのでここでは使用していない)"
   ]
  },
  {
   "cell_type": "code",
   "execution_count": 5,
   "metadata": {
    "scrolled": true
   },
   "outputs": [
    {
     "name": "stdout",
     "output_type": "stream",
     "text": [
      "WARNING:tensorflow:From /usr/local/var/pyenv/versions/3.6.0/lib/python3.6/site-packages/tensorflow/python/ops/math_ops.py:3066: to_int32 (from tensorflow.python.ops.math_ops) is deprecated and will be removed in a future version.\n",
      "Instructions for updating:\n",
      "Use tf.cast instead.\n",
      "Epoch 1/30\n",
      "10000/10000 [==============================] - 5s 499us/sample - loss: 1.5982 - acc: 0.4110\n",
      "400/400 [==============================] - 41s 102ms/step - loss: 1.8514 - acc: 0.3082 - val_loss: 1.5982 - val_acc: 0.4110\n",
      "Epoch 2/30\n",
      "10000/10000 [==============================] - 4s 447us/sample - loss: 1.6032 - acc: 0.4214\n",
      "400/400 [==============================] - 55s 139ms/step - loss: 1.6373 - acc: 0.3926 - val_loss: 1.6032 - val_acc: 0.4214\n",
      "Epoch 3/30\n",
      "10000/10000 [==============================] - 4s 418us/sample - loss: 1.4946 - acc: 0.4699\n",
      "400/400 [==============================] - 47s 116ms/step - loss: 1.5668 - acc: 0.4260 - val_loss: 1.4946 - val_acc: 0.4699\n",
      "Epoch 4/30\n",
      "10000/10000 [==============================] - 4s 428us/sample - loss: 1.4071 - acc: 0.4975\n",
      "400/400 [==============================] - 48s 120ms/step - loss: 1.5182 - acc: 0.4438 - val_loss: 1.4071 - val_acc: 0.4975\n",
      "Epoch 5/30\n",
      "10000/10000 [==============================] - 4s 407us/sample - loss: 1.3488 - acc: 0.5065\n",
      "400/400 [==============================] - 49s 122ms/step - loss: 1.4874 - acc: 0.4599 - val_loss: 1.3488 - val_acc: 0.5065\n",
      "Epoch 6/30\n",
      "10000/10000 [==============================] - 5s 474us/sample - loss: 1.3471 - acc: 0.5197\n",
      "400/400 [==============================] - 50s 125ms/step - loss: 1.4552 - acc: 0.4742 - val_loss: 1.3471 - val_acc: 0.5197\n",
      "Epoch 7/30\n",
      "10000/10000 [==============================] - 4s 430us/sample - loss: 1.3750 - acc: 0.5095\n",
      "400/400 [==============================] - 47s 117ms/step - loss: 1.4285 - acc: 0.4858 - val_loss: 1.3750 - val_acc: 0.5095\n",
      "Epoch 8/30\n",
      "10000/10000 [==============================] - 5s 459us/sample - loss: 1.2519 - acc: 0.5444\n",
      "400/400 [==============================] - 50s 125ms/step - loss: 1.4101 - acc: 0.4911 - val_loss: 1.2519 - val_acc: 0.5444\n",
      "Epoch 9/30\n",
      "10000/10000 [==============================] - 5s 466us/sample - loss: 1.2356 - acc: 0.5549\n",
      "400/400 [==============================] - 46s 115ms/step - loss: 1.3801 - acc: 0.4999 - val_loss: 1.2356 - val_acc: 0.5549\n",
      "Epoch 10/30\n",
      "10000/10000 [==============================] - 4s 393us/sample - loss: 1.2730 - acc: 0.5477\n",
      "400/400 [==============================] - 47s 117ms/step - loss: 1.3654 - acc: 0.5079 - val_loss: 1.2730 - val_acc: 0.5477\n",
      "Epoch 11/30\n",
      "10000/10000 [==============================] - 4s 442us/sample - loss: 1.2384 - acc: 0.5604\n",
      "400/400 [==============================] - 51s 128ms/step - loss: 1.3567 - acc: 0.5112 - val_loss: 1.2384 - val_acc: 0.5604\n",
      "Epoch 12/30\n",
      "10000/10000 [==============================] - 5s 461us/sample - loss: 1.1953 - acc: 0.5737\n",
      "400/400 [==============================] - 46s 116ms/step - loss: 1.3317 - acc: 0.5200 - val_loss: 1.1953 - val_acc: 0.5737\n",
      "Epoch 13/30\n",
      "10000/10000 [==============================] - 5s 452us/sample - loss: 1.2545 - acc: 0.5536\n",
      "400/400 [==============================] - 47s 116ms/step - loss: 1.3270 - acc: 0.5235 - val_loss: 1.2545 - val_acc: 0.5536\n",
      "Epoch 14/30\n",
      "10000/10000 [==============================] - 4s 397us/sample - loss: 1.2739 - acc: 0.5556\n",
      "400/400 [==============================] - 46s 115ms/step - loss: 1.3150 - acc: 0.5289 - val_loss: 1.2739 - val_acc: 0.5556\n",
      "Epoch 15/30\n",
      "10000/10000 [==============================] - 4s 370us/sample - loss: 1.2719 - acc: 0.5555\n",
      "400/400 [==============================] - 44s 109ms/step - loss: 1.3018 - acc: 0.5320 - val_loss: 1.2719 - val_acc: 0.5555\n",
      "Epoch 16/30\n",
      "10000/10000 [==============================] - 4s 409us/sample - loss: 1.1800 - acc: 0.5825\n",
      "400/400 [==============================] - 43s 109ms/step - loss: 1.2847 - acc: 0.5407 - val_loss: 1.1800 - val_acc: 0.5825\n",
      "Epoch 17/30\n",
      "10000/10000 [==============================] - 4s 405us/sample - loss: 1.1742 - acc: 0.5872\n",
      "400/400 [==============================] - 47s 119ms/step - loss: 1.2774 - acc: 0.5447 - val_loss: 1.1742 - val_acc: 0.5872\n",
      "Epoch 18/30\n",
      "10000/10000 [==============================] - 4s 424us/sample - loss: 1.1612 - acc: 0.5926\n",
      "400/400 [==============================] - 52s 130ms/step - loss: 1.2679 - acc: 0.5438 - val_loss: 1.1612 - val_acc: 0.5926\n",
      "Epoch 19/30\n",
      "10000/10000 [==============================] - 4s 395us/sample - loss: 1.1682 - acc: 0.5930\n",
      "400/400 [==============================] - 48s 120ms/step - loss: 1.2629 - acc: 0.5486 - val_loss: 1.1682 - val_acc: 0.5930\n",
      "Epoch 20/30\n",
      "10000/10000 [==============================] - 4s 377us/sample - loss: 1.1644 - acc: 0.5932\n",
      "400/400 [==============================] - 46s 114ms/step - loss: 1.2516 - acc: 0.5535 - val_loss: 1.1644 - val_acc: 0.5932\n",
      "Epoch 21/30\n",
      "10000/10000 [==============================] - 6s 629us/sample - loss: 1.1517 - acc: 0.5965\n",
      "400/400 [==============================] - 55s 139ms/step - loss: 1.2499 - acc: 0.5518 - val_loss: 1.1517 - val_acc: 0.5965\n",
      "Epoch 22/30\n",
      "10000/10000 [==============================] - 4s 426us/sample - loss: 1.1414 - acc: 0.5972\n",
      "400/400 [==============================] - 52s 129ms/step - loss: 1.2384 - acc: 0.5563 - val_loss: 1.1414 - val_acc: 0.5972\n",
      "Epoch 23/30\n",
      "10000/10000 [==============================] - 5s 534us/sample - loss: 1.1100 - acc: 0.6126\n",
      "400/400 [==============================] - 51s 127ms/step - loss: 1.2351 - acc: 0.5575 - val_loss: 1.1100 - val_acc: 0.6126\n",
      "Epoch 24/30\n",
      "10000/10000 [==============================] - 4s 372us/sample - loss: 1.1847 - acc: 0.5825\n",
      "400/400 [==============================] - 48s 120ms/step - loss: 1.2125 - acc: 0.5663 - val_loss: 1.1847 - val_acc: 0.5825\n",
      "Epoch 25/30\n",
      "10000/10000 [==============================] - 4s 360us/sample - loss: 1.1148 - acc: 0.6054\n",
      "400/400 [==============================] - 42s 104ms/step - loss: 1.2211 - acc: 0.5639 - val_loss: 1.1148 - val_acc: 0.6054\n",
      "Epoch 26/30\n",
      "10000/10000 [==============================] - 4s 371us/sample - loss: 1.1078 - acc: 0.6141\n",
      "400/400 [==============================] - 44s 110ms/step - loss: 1.2118 - acc: 0.5636 - val_loss: 1.1078 - val_acc: 0.6141\n",
      "Epoch 27/30\n",
      "10000/10000 [==============================] - 4s 391us/sample - loss: 1.0937 - acc: 0.6100\n",
      "400/400 [==============================] - 44s 110ms/step - loss: 1.2029 - acc: 0.5679 - val_loss: 1.0937 - val_acc: 0.6100\n",
      "Epoch 28/30\n",
      "10000/10000 [==============================] - 4s 365us/sample - loss: 1.1044 - acc: 0.6081\n",
      "400/400 [==============================] - 41s 103ms/step - loss: 1.1930 - acc: 0.5725 - val_loss: 1.1044 - val_acc: 0.6081\n",
      "Epoch 29/30\n",
      "10000/10000 [==============================] - 4s 364us/sample - loss: 1.1130 - acc: 0.6040\n",
      "400/400 [==============================] - 44s 110ms/step - loss: 1.1960 - acc: 0.5677 - val_loss: 1.1130 - val_acc: 0.6040\n",
      "Epoch 30/30\n",
      "10000/10000 [==============================] - 4s 404us/sample - loss: 1.0724 - acc: 0.6244\n",
      "400/400 [==============================] - 45s 114ms/step - loss: 1.1840 - acc: 0.5777 - val_loss: 1.0724 - val_acc: 0.6244\n"
     ]
    },
    {
     "data": {
      "text/plain": [
       "<tensorflow.python.keras.callbacks.History at 0x13331ea20>"
      ]
     },
     "execution_count": 5,
     "metadata": {},
     "output_type": "execute_result"
    }
   ],
   "source": [
    "model.fit_generator(datagen.flow(x_train, y_train, batch_size=100),\n",
    "                    steps_per_epoch=x_train.shape[0] // 100, epochs=30, validation_data=(x_valid, y_valid))"
   ]
  },
  {
   "cell_type": "code",
   "execution_count": null,
   "metadata": {},
   "outputs": [],
   "source": []
  }
 ],
 "metadata": {
  "kernelspec": {
   "display_name": "Python 3",
   "language": "python",
   "name": "python3"
  },
  "language_info": {
   "codemirror_mode": {
    "name": "ipython",
    "version": 3
   },
   "file_extension": ".py",
   "mimetype": "text/x-python",
   "name": "python",
   "nbconvert_exporter": "python",
   "pygments_lexer": "ipython3",
   "version": "3.6.0"
  }
 },
 "nbformat": 4,
 "nbformat_minor": 2
}
