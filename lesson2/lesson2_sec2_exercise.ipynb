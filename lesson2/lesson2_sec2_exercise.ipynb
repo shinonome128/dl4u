{
 "cells": [
  {
   "cell_type": "markdown",
   "metadata": {},
   "source": [
    "# Lesson2 畳み込みニューラルネットワーク (CNN)"
   ]
  },
  {
   "cell_type": "markdown",
   "metadata": {},
   "source": [
    "## 目次\n",
    "\n",
    "- Section1 解説\n",
    "  - 1.1 CNN基礎\n",
    "  - 1.2 Convolution(畳み込み)層\n",
    "  - 1.3 Pooling(プーリング)層\n",
    "  - 1.4 確認問題\n",
    "- Section2 実装①\n",
    "  - 2.1 Fasion MNISTをCNNでクラス分類\n",
    "  - 2.2 CIFAR10のデータをCNNでクラス分類\n",
    "- Section3 テクニック・発展内容\n",
    "  - 3.1 Data Augmentation\n",
    "  - 3.2 画像データの正規化\n",
    "  - 3.3 Batch Normalization\n",
    "  - 3.4 Skip Connection  (Residual Network)\n",
    "  - 3.5 学習済みネットワークの利用\n",
    "  - 3.6 学習させたモデルの保存・再利用\n",
    "  - 3.7 確認問題\n",
    "- Section4 実装②\n",
    "  - 4.1 CIFAR10のデータをCNNでクラス分類②\n",
    "- Section5 ケーススタディ"
   ]
  },
  {
   "cell_type": "markdown",
   "metadata": {},
   "source": [
    "## 1.4の解答\n",
    "問1: ①\n",
    "問2: ①\n",
    "問3: ①\n",
    "問4: ①\n",
    "問5: ①"
   ]
  },
  {
   "cell_type": "code",
   "execution_count": 1,
   "metadata": {},
   "outputs": [],
   "source": [
    "%matplotlib inline\n",
    "\n",
    "import os\n",
    "\n",
    "import tensorflow.keras as keras\n",
    "import numpy as np\n",
    "import matplotlib.pyplot as plt\n",
    "\n",
    "from tensorflow.keras.layers import Dense, Conv2D, MaxPooling2D, Flatten, Input, Activation, add, Add, Dropout, BatchNormalization\n",
    "from tensorflow.keras.callbacks import EarlyStopping\n",
    "from tensorflow.keras.models import Sequential, Model\n",
    "from tensorflow.keras.datasets import cifar10\n",
    "from tensorflow.keras.datasets import fashion_mnist\n",
    "from tensorflow.keras.utils import to_categorical\n",
    "from sklearn.model_selection import train_test_split\n",
    "\n",
    "from IPython.display import SVG\n",
    "from tensorflow.python.keras.utils.vis_utils import model_to_dot\n",
    "\n",
    "random_state = 42"
   ]
  },
  {
   "cell_type": "markdown",
   "metadata": {},
   "source": [
    "## Section2 実装①"
   ]
  },
  {
   "cell_type": "markdown",
   "metadata": {},
   "source": [
    "### 2.1 Fasion MNISTをCNNでクラス分類"
   ]
  },
  {
   "cell_type": "markdown",
   "metadata": {},
   "source": [
    "まずは、Lesson1でも扱ったFashion MNISTのデータを今回はCNNを利用してクラス分類していきます。"
   ]
  },
  {
   "cell_type": "markdown",
   "metadata": {},
   "source": [
    "#### 2.1.1 データセットの読み込み"
   ]
  },
  {
   "cell_type": "code",
   "execution_count": 2,
   "metadata": {},
   "outputs": [],
   "source": [
    "(x_train, y_train), (x_test, y_test) = fashion_mnist.load_data()"
   ]
  },
  {
   "cell_type": "code",
   "execution_count": 3,
   "metadata": {},
   "outputs": [
    {
     "data": {
      "image/png": "[encoded data removed]",
      "text/plain": [
       "<Figure size 648x1080 with 9 Axes>"
      ]
     },
     "metadata": {},
     "output_type": "display_data"
    }
   ],
   "source": [
    "fig = plt.figure(figsize=(9, 15))\n",
    "fig.subplots_adjust(left=0, right=1, bottom=0, top=0.5, hspace=0.05,\n",
    "                    wspace=0.05)\n",
    "\n",
    "for i in range(9):\n",
    "    ax = fig.add_subplot(1, 9, i + 1, xticks=[], yticks=[])\n",
    "    ax.imshow(x_train[i], cmap='gray')"
   ]
  },
  {
   "cell_type": "markdown",
   "metadata": {},
   "source": [
    "このとき読み込んだ画像は(バッチサイズ、縦の画素数、 横の画素数)の次元で表されています。"
   ]
  },
  {
   "cell_type": "code",
   "execution_count": 4,
   "metadata": {},
   "outputs": [
    {
     "data": {
      "text/plain": [
       "(60000, 28, 28)"
      ]
     },
     "execution_count": 4,
     "metadata": {},
     "output_type": "execute_result"
    }
   ],
   "source": [
    "x_train.shape"
   ]
  },
  {
   "cell_type": "code",
   "execution_count": 5,
   "metadata": {},
   "outputs": [],
   "source": [
    "x_train = x_train.reshape((x_train.shape[0], 28, 28, 1)) / 255\n",
    "x_test = x_test.reshape((x_test.shape[0], 28, 28, 1)) / 255\n",
    "y_train = to_categorical(y_train)\n",
    "y_test = to_categorical(y_test)"
   ]
  },
  {
   "cell_type": "markdown",
   "metadata": {},
   "source": [
    "Lesson1の多層パーセプトロンでは入力を (バッチサイズ、画素数) の2次元テンソルとして扱いましたが、 CNNでは2次元の画像として処理していくために4次元テンソル (バッチサイズ、縦の画素数、横の画素数、チャンネル数)として扱います。 チャンネル数は白黒画像の場合は1、 カラー画像の場合はRGBで3です。\n",
    "\n",
    "Fashion MNISTの画像は白黒データですのでチャンネル数を1に設定しています。(カラー画像の場合はチャンネル数が3になります)"
   ]
  },
  {
   "cell_type": "code",
   "execution_count": 6,
   "metadata": {},
   "outputs": [
    {
     "data": {
      "text/plain": [
       "(60000, 28, 28, 1)"
      ]
     },
     "execution_count": 6,
     "metadata": {},
     "output_type": "execute_result"
    }
   ],
   "source": [
    "x_train.shape"
   ]
  },
  {
   "cell_type": "markdown",
   "metadata": {},
   "source": [
    "#### 2.1.2 実装"
   ]
  },
  {
   "cell_type": "code",
   "execution_count": 7,
   "metadata": {},
   "outputs": [
    {
     "name": "stdout",
     "output_type": "stream",
     "text": [
      "WARNING:tensorflow:From /usr/local/var/pyenv/versions/3.6.0/lib/python3.6/site-packages/tensorflow/python/ops/resource_variable_ops.py:435: colocate_with (from tensorflow.python.framework.ops) is deprecated and will be removed in a future version.\n",
      "Instructions for updating:\n",
      "Colocations handled automatically by placer.\n"
     ]
    }
   ],
   "source": [
    "model = Sequential()\n",
    "\n",
    "# 入力画像 28x28x1 (縦の画素数)x(横の画素数)x(チャンネル数)\n",
    "model.add(Conv2D(16, kernel_size=(5, 5), activation='relu',\n",
    "                 kernel_initializer='he_normal', input_shape=(28, 28, 1)))  # 28x28x1 -> 24x24x16\n",
    "model.add(MaxPooling2D(pool_size=(2, 2)))  # 24x24x16 -> 12x12x16\n",
    "model.add(Conv2D(64, kernel_size=(5, 5), activation='relu',\n",
    "                 kernel_initializer='he_normal'))  # 12x12x16 -> 8x8x64\n",
    "model.add(MaxPooling2D(pool_size=(2, 2)))  # 8x8x64 -> 4x4x64\n",
    "\n",
    "model.add(Flatten())  # 4x4x64-> 1024\n",
    "model.add(Dense(10, activation='softmax'))  # 1024 -> 10\n",
    "\n",
    "model.compile(\n",
    "    loss=keras.losses.categorical_crossentropy,\n",
    "    optimizer='adam',\n",
    "    metrics=['accuracy']\n",
    ")"
   ]
  },
  {
   "cell_type": "markdown",
   "metadata": {},
   "source": [
    "作成したモデルを確認してみましょう。"
   ]
  },
  {
   "cell_type": "code",
   "execution_count": 8,
   "metadata": {},
   "outputs": [
    {
     "data": {
      "image/svg+xml": [
       "<svg height=\"531pt\" viewBox=\"0.00 0.00 379.93 531.00\" width=\"380pt\" xmlns=\"http://www.w3.org/2000/svg\" xmlns:xlink=\"http://www.w3.org/1999/xlink\">\n",
       "<g class=\"graph\" id=\"graph0\" transform=\"scale(1 1) rotate(0) translate(4 527)\">\n",
       "<title>G</title>\n",
       "<polygon fill=\"#ffffff\" points=\"-4,4 -4,-527 375.9277,-527 375.9277,4 -4,4\" stroke=\"transparent\"/>\n",
       "<!-- 5165014320 -->\n",
       "<g class=\"node\" id=\"node1\">\n",
       "<title>5165014320</title>\n",
       "<polygon fill=\"none\" points=\"42.7793,-405.5 42.7793,-449.5 329.1484,-449.5 329.1484,-405.5 42.7793,-405.5\" stroke=\"#000000\"/>\n",
       "<text fill=\"#000000\" font-family=\"Times,serif\" font-size=\"14.00\" text-anchor=\"middle\" x=\"98.8052\" y=\"-423.3\">conv2d: Conv2D</text>\n",
       "<polyline fill=\"none\" points=\"154.8311,-405.5 154.8311,-449.5 \" stroke=\"#000000\"/>\n",
       "<text fill=\"#000000\" font-family=\"Times,serif\" font-size=\"14.00\" text-anchor=\"middle\" x=\"182.6655\" y=\"-434.3\">input:</text>\n",
       "<polyline fill=\"none\" points=\"154.8311,-427.5 210.5,-427.5 \" stroke=\"#000000\"/>\n",
       "<text fill=\"#000000\" font-family=\"Times,serif\" font-size=\"14.00\" text-anchor=\"middle\" x=\"182.6655\" y=\"-412.3\">output:</text>\n",
       "<polyline fill=\"none\" points=\"210.5,-405.5 210.5,-449.5 \" stroke=\"#000000\"/>\n",
       "<text fill=\"#000000\" font-family=\"Times,serif\" font-size=\"14.00\" text-anchor=\"middle\" x=\"269.8242\" y=\"-434.3\">(None, 28, 28, 1)</text>\n",
       "<polyline fill=\"none\" points=\"210.5,-427.5 329.1484,-427.5 \" stroke=\"#000000\"/>\n",
       "<text fill=\"#000000\" font-family=\"Times,serif\" font-size=\"14.00\" text-anchor=\"middle\" x=\"269.8242\" y=\"-412.3\">(None, 24, 24, 16)</text>\n",
       "</g>\n",
       "<!-- 5164970784 -->\n",
       "<g class=\"node\" id=\"node2\">\n",
       "<title>5164970784</title>\n",
       "<polygon fill=\"none\" points=\"0,-324.5 0,-368.5 371.9277,-368.5 371.9277,-324.5 0,-324.5\" stroke=\"#000000\"/>\n",
       "<text fill=\"#000000\" font-family=\"Times,serif\" font-size=\"14.00\" text-anchor=\"middle\" x=\"98.8052\" y=\"-342.3\">max_pooling2d: MaxPooling2D</text>\n",
       "<polyline fill=\"none\" points=\"197.6104,-324.5 197.6104,-368.5 \" stroke=\"#000000\"/>\n",
       "<text fill=\"#000000\" font-family=\"Times,serif\" font-size=\"14.00\" text-anchor=\"middle\" x=\"225.4448\" y=\"-353.3\">input:</text>\n",
       "<polyline fill=\"none\" points=\"197.6104,-346.5 253.2793,-346.5 \" stroke=\"#000000\"/>\n",
       "<text fill=\"#000000\" font-family=\"Times,serif\" font-size=\"14.00\" text-anchor=\"middle\" x=\"225.4448\" y=\"-331.3\">output:</text>\n",
       "<polyline fill=\"none\" points=\"253.2793,-324.5 253.2793,-368.5 \" stroke=\"#000000\"/>\n",
       "<text fill=\"#000000\" font-family=\"Times,serif\" font-size=\"14.00\" text-anchor=\"middle\" x=\"312.6035\" y=\"-353.3\">(None, 24, 24, 16)</text>\n",
       "<polyline fill=\"none\" points=\"253.2793,-346.5 371.9277,-346.5 \" stroke=\"#000000\"/>\n",
       "<text fill=\"#000000\" font-family=\"Times,serif\" font-size=\"14.00\" text-anchor=\"middle\" x=\"312.6035\" y=\"-331.3\">(None, 12, 12, 16)</text>\n",
       "</g>\n",
       "<!-- 5165014320&#45;&gt;5164970784 -->\n",
       "<g class=\"edge\" id=\"edge2\">\n",
       "<title>5165014320-&gt;5164970784</title>\n",
       "<path d=\"M185.9639,-405.3664C185.9639,-397.1516 185.9639,-387.6579 185.9639,-378.7252\" fill=\"none\" stroke=\"#000000\"/>\n",
       "<polygon fill=\"#000000\" points=\"189.464,-378.6068 185.9639,-368.6068 182.464,-378.6069 189.464,-378.6068\" stroke=\"#000000\"/>\n",
       "</g>\n",
       "<!-- 5164970336 -->\n",
       "<g class=\"node\" id=\"node3\">\n",
       "<title>5164970336</title>\n",
       "<polygon fill=\"none\" points=\"35.7793,-243.5 35.7793,-287.5 336.1484,-287.5 336.1484,-243.5 35.7793,-243.5\" stroke=\"#000000\"/>\n",
       "<text fill=\"#000000\" font-family=\"Times,serif\" font-size=\"14.00\" text-anchor=\"middle\" x=\"98.8052\" y=\"-261.3\">conv2d_1: Conv2D</text>\n",
       "<polyline fill=\"none\" points=\"161.8311,-243.5 161.8311,-287.5 \" stroke=\"#000000\"/>\n",
       "<text fill=\"#000000\" font-family=\"Times,serif\" font-size=\"14.00\" text-anchor=\"middle\" x=\"189.6655\" y=\"-272.3\">input:</text>\n",
       "<polyline fill=\"none\" points=\"161.8311,-265.5 217.5,-265.5 \" stroke=\"#000000\"/>\n",
       "<text fill=\"#000000\" font-family=\"Times,serif\" font-size=\"14.00\" text-anchor=\"middle\" x=\"189.6655\" y=\"-250.3\">output:</text>\n",
       "<polyline fill=\"none\" points=\"217.5,-243.5 217.5,-287.5 \" stroke=\"#000000\"/>\n",
       "<text fill=\"#000000\" font-family=\"Times,serif\" font-size=\"14.00\" text-anchor=\"middle\" x=\"276.8242\" y=\"-272.3\">(None, 12, 12, 16)</text>\n",
       "<polyline fill=\"none\" points=\"217.5,-265.5 336.1484,-265.5 \" stroke=\"#000000\"/>\n",
       "<text fill=\"#000000\" font-family=\"Times,serif\" font-size=\"14.00\" text-anchor=\"middle\" x=\"276.8242\" y=\"-250.3\">(None, 8, 8, 64)</text>\n",
       "</g>\n",
       "<!-- 5164970784&#45;&gt;5164970336 -->\n",
       "<g class=\"edge\" id=\"edge3\">\n",
       "<title>5164970784-&gt;5164970336</title>\n",
       "<path d=\"M185.9639,-324.3664C185.9639,-316.1516 185.9639,-306.6579 185.9639,-297.7252\" fill=\"none\" stroke=\"#000000\"/>\n",
       "<polygon fill=\"#000000\" points=\"189.464,-297.6068 185.9639,-287.6068 182.464,-297.6069 189.464,-297.6068\" stroke=\"#000000\"/>\n",
       "</g>\n",
       "<!-- 5165150160 -->\n",
       "<g class=\"node\" id=\"node4\">\n",
       "<title>5165150160</title>\n",
       "<polygon fill=\"none\" points=\"0,-162.5 0,-206.5 371.9277,-206.5 371.9277,-162.5 0,-162.5\" stroke=\"#000000\"/>\n",
       "<text fill=\"#000000\" font-family=\"Times,serif\" font-size=\"14.00\" text-anchor=\"middle\" x=\"105.8052\" y=\"-180.3\">max_pooling2d_1: MaxPooling2D</text>\n",
       "<polyline fill=\"none\" points=\"211.6104,-162.5 211.6104,-206.5 \" stroke=\"#000000\"/>\n",
       "<text fill=\"#000000\" font-family=\"Times,serif\" font-size=\"14.00\" text-anchor=\"middle\" x=\"239.4448\" y=\"-191.3\">input:</text>\n",
       "<polyline fill=\"none\" points=\"211.6104,-184.5 267.2793,-184.5 \" stroke=\"#000000\"/>\n",
       "<text fill=\"#000000\" font-family=\"Times,serif\" font-size=\"14.00\" text-anchor=\"middle\" x=\"239.4448\" y=\"-169.3\">output:</text>\n",
       "<polyline fill=\"none\" points=\"267.2793,-162.5 267.2793,-206.5 \" stroke=\"#000000\"/>\n",
       "<text fill=\"#000000\" font-family=\"Times,serif\" font-size=\"14.00\" text-anchor=\"middle\" x=\"319.6035\" y=\"-191.3\">(None, 8, 8, 64)</text>\n",
       "<polyline fill=\"none\" points=\"267.2793,-184.5 371.9277,-184.5 \" stroke=\"#000000\"/>\n",
       "<text fill=\"#000000\" font-family=\"Times,serif\" font-size=\"14.00\" text-anchor=\"middle\" x=\"319.6035\" y=\"-169.3\">(None, 4, 4, 64)</text>\n",
       "</g>\n",
       "<!-- 5164970336&#45;&gt;5165150160 -->\n",
       "<g class=\"edge\" id=\"edge4\">\n",
       "<title>5164970336-&gt;5165150160</title>\n",
       "<path d=\"M185.9639,-243.3664C185.9639,-235.1516 185.9639,-225.6579 185.9639,-216.7252\" fill=\"none\" stroke=\"#000000\"/>\n",
       "<polygon fill=\"#000000\" points=\"189.464,-216.6068 185.9639,-206.6068 182.464,-216.6069 189.464,-216.6068\" stroke=\"#000000\"/>\n",
       "</g>\n",
       "<!-- 5164972632 -->\n",
       "<g class=\"node\" id=\"node5\">\n",
       "<title>5164972632</title>\n",
       "<polygon fill=\"none\" points=\"57.1724,-81.5 57.1724,-125.5 314.7554,-125.5 314.7554,-81.5 57.1724,-81.5\" stroke=\"#000000\"/>\n",
       "<text fill=\"#000000\" font-family=\"Times,serif\" font-size=\"14.00\" text-anchor=\"middle\" x=\"105.8052\" y=\"-99.3\">flatten: Flatten</text>\n",
       "<polyline fill=\"none\" points=\"154.438,-81.5 154.438,-125.5 \" stroke=\"#000000\"/>\n",
       "<text fill=\"#000000\" font-family=\"Times,serif\" font-size=\"14.00\" text-anchor=\"middle\" x=\"182.2725\" y=\"-110.3\">input:</text>\n",
       "<polyline fill=\"none\" points=\"154.438,-103.5 210.1069,-103.5 \" stroke=\"#000000\"/>\n",
       "<text fill=\"#000000\" font-family=\"Times,serif\" font-size=\"14.00\" text-anchor=\"middle\" x=\"182.2725\" y=\"-88.3\">output:</text>\n",
       "<polyline fill=\"none\" points=\"210.1069,-81.5 210.1069,-125.5 \" stroke=\"#000000\"/>\n",
       "<text fill=\"#000000\" font-family=\"Times,serif\" font-size=\"14.00\" text-anchor=\"middle\" x=\"262.4312\" y=\"-110.3\">(None, 4, 4, 64)</text>\n",
       "<polyline fill=\"none\" points=\"210.1069,-103.5 314.7554,-103.5 \" stroke=\"#000000\"/>\n",
       "<text fill=\"#000000\" font-family=\"Times,serif\" font-size=\"14.00\" text-anchor=\"middle\" x=\"262.4312\" y=\"-88.3\">(None, 1024)</text>\n",
       "</g>\n",
       "<!-- 5165150160&#45;&gt;5164972632 -->\n",
       "<g class=\"edge\" id=\"edge5\">\n",
       "<title>5165150160-&gt;5164972632</title>\n",
       "<path d=\"M185.9639,-162.3664C185.9639,-154.1516 185.9639,-144.6579 185.9639,-135.7252\" fill=\"none\" stroke=\"#000000\"/>\n",
       "<polygon fill=\"#000000\" points=\"189.464,-135.6068 185.9639,-125.6068 182.464,-135.6069 189.464,-135.6068\" stroke=\"#000000\"/>\n",
       "</g>\n",
       "<!-- 4562655776 -->\n",
       "<g class=\"node\" id=\"node6\">\n",
       "<title>4562655776</title>\n",
       "<polygon fill=\"none\" points=\"67.6792,-.5 67.6792,-44.5 304.2485,-44.5 304.2485,-.5 67.6792,-.5\" stroke=\"#000000\"/>\n",
       "<text fill=\"#000000\" font-family=\"Times,serif\" font-size=\"14.00\" text-anchor=\"middle\" x=\"112.8052\" y=\"-18.3\">dense: Dense</text>\n",
       "<polyline fill=\"none\" points=\"157.9312,-.5 157.9312,-44.5 \" stroke=\"#000000\"/>\n",
       "<text fill=\"#000000\" font-family=\"Times,serif\" font-size=\"14.00\" text-anchor=\"middle\" x=\"185.7656\" y=\"-29.3\">input:</text>\n",
       "<polyline fill=\"none\" points=\"157.9312,-22.5 213.6001,-22.5 \" stroke=\"#000000\"/>\n",
       "<text fill=\"#000000\" font-family=\"Times,serif\" font-size=\"14.00\" text-anchor=\"middle\" x=\"185.7656\" y=\"-7.3\">output:</text>\n",
       "<polyline fill=\"none\" points=\"213.6001,-.5 213.6001,-44.5 \" stroke=\"#000000\"/>\n",
       "<text fill=\"#000000\" font-family=\"Times,serif\" font-size=\"14.00\" text-anchor=\"middle\" x=\"258.9243\" y=\"-29.3\">(None, 1024)</text>\n",
       "<polyline fill=\"none\" points=\"213.6001,-22.5 304.2485,-22.5 \" stroke=\"#000000\"/>\n",
       "<text fill=\"#000000\" font-family=\"Times,serif\" font-size=\"14.00\" text-anchor=\"middle\" x=\"258.9243\" y=\"-7.3\">(None, 10)</text>\n",
       "</g>\n",
       "<!-- 5164972632&#45;&gt;4562655776 -->\n",
       "<g class=\"edge\" id=\"edge6\">\n",
       "<title>5164972632-&gt;4562655776</title>\n",
       "<path d=\"M185.9639,-81.3664C185.9639,-73.1516 185.9639,-63.6579 185.9639,-54.7252\" fill=\"none\" stroke=\"#000000\"/>\n",
       "<polygon fill=\"#000000\" points=\"189.464,-54.6068 185.9639,-44.6068 182.464,-54.6069 189.464,-54.6068\" stroke=\"#000000\"/>\n",
       "</g>\n",
       "<!-- 5164970672 -->\n",
       "<g class=\"node\" id=\"node7\">\n",
       "<title>5164970672</title>\n",
       "<polygon fill=\"none\" points=\"142.9639,-486.5 142.9639,-522.5 228.9639,-522.5 228.9639,-486.5 142.9639,-486.5\" stroke=\"#000000\"/>\n",
       "<text fill=\"#000000\" font-family=\"Times,serif\" font-size=\"14.00\" text-anchor=\"middle\" x=\"185.9639\" y=\"-500.3\">5164970672</text>\n",
       "</g>\n",
       "<!-- 5164970672&#45;&gt;5165014320 -->\n",
       "<g class=\"edge\" id=\"edge1\">\n",
       "<title>5164970672-&gt;5165014320</title>\n",
       "<path d=\"M185.9639,-486.2521C185.9639,-478.3888 185.9639,-468.9498 185.9639,-459.9612\" fill=\"none\" stroke=\"#000000\"/>\n",
       "<polygon fill=\"#000000\" points=\"189.464,-459.7376 185.9639,-449.7377 182.464,-459.7377 189.464,-459.7376\" stroke=\"#000000\"/>\n",
       "</g>\n",
       "</g>\n",
       "</svg>"
      ],
      "text/plain": [
       "<IPython.core.display.SVG object>"
      ]
     },
     "execution_count": 8,
     "metadata": {},
     "output_type": "execute_result"
    }
   ],
   "source": [
    "SVG(model_to_dot(model, show_shapes=True).create(prog='dot', format='svg'))"
   ]
  },
  {
   "cell_type": "code",
   "execution_count": 9,
   "metadata": {},
   "outputs": [
    {
     "name": "stdout",
     "output_type": "stream",
     "text": [
      "Train on 60000 samples, validate on 10000 samples\n",
      "WARNING:tensorflow:From /usr/local/var/pyenv/versions/3.6.0/lib/python3.6/site-packages/tensorflow/python/ops/math_ops.py:3066: to_int32 (from tensorflow.python.ops.math_ops) is deprecated and will be removed in a future version.\n",
      "Instructions for updating:\n",
      "Use tf.cast instead.\n",
      "Epoch 1/100\n",
      "60000/60000 [==============================] - 32s 526us/sample - loss: 0.5362 - acc: 0.8109 - val_loss: 0.4071 - val_acc: 0.8545\n",
      "Epoch 2/100\n",
      "60000/60000 [==============================] - 36s 594us/sample - loss: 0.3596 - acc: 0.8706 - val_loss: 0.3588 - val_acc: 0.8722\n",
      "Epoch 3/100\n",
      "60000/60000 [==============================] - 38s 629us/sample - loss: 0.3156 - acc: 0.8868 - val_loss: 0.3515 - val_acc: 0.8708\n",
      "Epoch 4/100\n",
      "60000/60000 [==============================] - 40s 661us/sample - loss: 0.2838 - acc: 0.8978 - val_loss: 0.3273 - val_acc: 0.8822\n",
      "Epoch 5/100\n",
      "60000/60000 [==============================] - 41s 685us/sample - loss: 0.2618 - acc: 0.9064 - val_loss: 0.3156 - val_acc: 0.8884\n",
      "Epoch 6/100\n",
      "60000/60000 [==============================] - 38s 640us/sample - loss: 0.2475 - acc: 0.9118 - val_loss: 0.3062 - val_acc: 0.8909\n",
      "Epoch 7/100\n",
      "60000/60000 [==============================] - 40s 659us/sample - loss: 0.2331 - acc: 0.9163 - val_loss: 0.2958 - val_acc: 0.8951\n",
      "Epoch 8/100\n",
      "60000/60000 [==============================] - 42s 698us/sample - loss: 0.2182 - acc: 0.9222 - val_loss: 0.3006 - val_acc: 0.8960\n",
      "Epoch 00008: early stopping\n"
     ]
    },
    {
     "data": {
      "text/plain": [
       "<tensorflow.python.keras.callbacks.History at 0x14e586940>"
      ]
     },
     "execution_count": 9,
     "metadata": {},
     "output_type": "execute_result"
    }
   ],
   "source": [
    "early_stopping = EarlyStopping(patience=1, verbose=1)\n",
    "model.fit(x=x_train, y=y_train, batch_size=128, epochs=100, verbose=1,\n",
    "          validation_data=(x_test, y_test), callbacks=[early_stopping])"
   ]
  },
  {
   "cell_type": "markdown",
   "metadata": {},
   "source": [
    "### 2.2 CIFAR10のデータをCNNでクラス分類"
   ]
  },
  {
   "cell_type": "markdown",
   "metadata": {},
   "source": [
    "####  2.2.1 データセットの読み込み"
   ]
  },
  {
   "cell_type": "markdown",
   "metadata": {},
   "source": [
    "6万枚のカラー画像に10のカテゴリのどれかが付与されたCIFAR-10というデータセットを使用します。\n",
    "\n",
    "まず、データを読み込みます。"
   ]
  },
  {
   "cell_type": "code",
   "execution_count": 10,
   "metadata": {},
   "outputs": [
    {
     "name": "stdout",
     "output_type": "stream",
     "text": [
      "Downloading data from https://www.cs.toronto.edu/~kriz/cifar-10-python.tar.gz\n",
      "170500096/170498071 [==============================] - 14s 0us/step\n"
     ]
    }
   ],
   "source": [
    "(x_train, y_train), (x_test, y_test) = cifar10.load_data()\n",
    "\n",
    "x_train = x_train.astype('float32') / 255\n",
    "y_train = np.eye(10)[y_train.astype('int32').flatten()]\n",
    "\n",
    "x_test = x_test.astype('float32') / 255\n",
    "y_test = np.eye(10)[y_test.astype('int32').flatten()]\n",
    "\n",
    "x_train, x_valid, y_train, y_valid = train_test_split(\n",
    "    x_train, y_train, test_size=10000)"
   ]
  },
  {
   "cell_type": "markdown",
   "metadata": {},
   "source": [
    "画像はRGBデータなのでFashion MNISTとは異なり、チャンネル数は3になります。"
   ]
  },
  {
   "cell_type": "code",
   "execution_count": 11,
   "metadata": {},
   "outputs": [
    {
     "data": {
      "text/plain": [
       "(40000, 32, 32, 3)"
      ]
     },
     "execution_count": 11,
     "metadata": {},
     "output_type": "execute_result"
    }
   ],
   "source": [
    "x_train.shape"
   ]
  },
  {
   "cell_type": "markdown",
   "metadata": {},
   "source": [
    "次に、CIFAR-10の画像の例を表示してみます。この画像ひとつひとつに10のカテゴリのうちひとつが付与されています。"
   ]
  },
  {
   "cell_type": "code",
   "execution_count": 12,
   "metadata": {},
   "outputs": [
    {
     "data": {
      "image/png": "[encoded data removed]",
      "text/plain": [
       "<Figure size 648x1080 with 9 Axes>"
      ]
     },
     "metadata": {},
     "output_type": "display_data"
    }
   ],
   "source": [
    "fig = plt.figure(figsize=(9, 15))\n",
    "fig.subplots_adjust(left=0, right=1, bottom=0, top=0.5, hspace=0.05,\n",
    "                    wspace=0.05)\n",
    "\n",
    "for i in range(9):\n",
    "    ax = fig.add_subplot(1, 9, i + 1, xticks=[], yticks=[])\n",
    "    ax.imshow(x_train[i])"
   ]
  },
  {
   "cell_type": "markdown",
   "metadata": {},
   "source": [
    "以下のネットワークを実装してみます。\n",
    "\n",
    "![](./figures/lenet.png)\n",
    "\n",
    "Y. LeCun et al., \"Gradient-based learning applied to document recognition\", Proceedings of the IEEE, 1998"
   ]
  },
  {
   "cell_type": "markdown",
   "metadata": {},
   "source": [
    "#### 2.2.2 実装"
   ]
  },
  {
   "cell_type": "code",
   "execution_count": 13,
   "metadata": {},
   "outputs": [],
   "source": [
    "model = Sequential()\n",
    "\n",
    "model.add(Conv2D(6, kernel_size=(5, 5), activation='relu',\n",
    "                 kernel_initializer='he_normal', input_shape=(32, 32, 3)))  # 32x32x3 -> 28x28x6\n",
    "model.add(MaxPooling2D(pool_size=(2, 2)))  # 28x28x6 -> 14x14x6\n",
    "model.add(Conv2D(16, kernel_size=(5, 5), activation='relu',\n",
    "                 kernel_initializer='he_normal'))  # 14x14x6 -> 10x10x16\n",
    "model.add(MaxPooling2D(pool_size=(2, 2)))  # 10x10x16 -> 5x5x16\n",
    "\n",
    "model.add(Flatten())  # 5x5x16 -> 400\n",
    "model.add(Dense(120, activation='relu',\n",
    "                kernel_initializer='he_normal'))  # 400 ->120\n",
    "model.add(Dense(84, activation='relu', kernel_initializer='he_normal'))  # 120 ->84\n",
    "model.add(Dense(10, activation='softmax'))  # 84 ->10\n",
    "\n",
    "model.compile(\n",
    "    loss=keras.losses.categorical_crossentropy,\n",
    "    optimizer='adam',\n",
    "    metrics=['accuracy']\n",
    ")"
   ]
  },
  {
   "cell_type": "markdown",
   "metadata": {},
   "source": [
    "作成したモデルを確認してみましょう。"
   ]
  },
  {
   "cell_type": "code",
   "execution_count": 14,
   "metadata": {},
   "outputs": [
    {
     "data": {
      "image/svg+xml": [
       "<svg height=\"629pt\" viewBox=\"0.00 0.00 219.61 629.00\" width=\"220pt\" xmlns=\"http://www.w3.org/2000/svg\" xmlns:xlink=\"http://www.w3.org/1999/xlink\">\n",
       "<g class=\"graph\" id=\"graph0\" transform=\"scale(1 1) rotate(0) translate(4 625)\">\n",
       "<title>G</title>\n",
       "<polygon fill=\"#ffffff\" points=\"-4,4 -4,-625 215.6104,-625 215.6104,4 -4,4\" stroke=\"transparent\"/>\n",
       "<!-- 5077079824 -->\n",
       "<g class=\"node\" id=\"node1\">\n",
       "<title>5077079824</title>\n",
       "<polygon fill=\"none\" points=\"42.7793,-511.5 42.7793,-547.5 168.8311,-547.5 168.8311,-511.5 42.7793,-511.5\" stroke=\"#000000\"/>\n",
       "<text fill=\"#000000\" font-family=\"Times,serif\" font-size=\"14.00\" text-anchor=\"middle\" x=\"105.8052\" y=\"-525.3\">conv2d_2: Conv2D</text>\n",
       "</g>\n",
       "<!-- 5077081112 -->\n",
       "<g class=\"node\" id=\"node2\">\n",
       "<title>5077081112</title>\n",
       "<polygon fill=\"none\" points=\"0,-438.5 0,-474.5 211.6104,-474.5 211.6104,-438.5 0,-438.5\" stroke=\"#000000\"/>\n",
       "<text fill=\"#000000\" font-family=\"Times,serif\" font-size=\"14.00\" text-anchor=\"middle\" x=\"105.8052\" y=\"-452.3\">max_pooling2d_2: MaxPooling2D</text>\n",
       "</g>\n",
       "<!-- 5077079824&#45;&gt;5077081112 -->\n",
       "<g class=\"edge\" id=\"edge2\">\n",
       "<title>5077079824-&gt;5077081112</title>\n",
       "<path d=\"M105.8052,-511.4551C105.8052,-503.3828 105.8052,-493.6764 105.8052,-484.6817\" fill=\"none\" stroke=\"#000000\"/>\n",
       "<polygon fill=\"#000000\" points=\"109.3053,-484.5903 105.8052,-474.5904 102.3053,-484.5904 109.3053,-484.5903\" stroke=\"#000000\"/>\n",
       "</g>\n",
       "<!-- 5077080160 -->\n",
       "<g class=\"node\" id=\"node3\">\n",
       "<title>5077080160</title>\n",
       "<polygon fill=\"none\" points=\"42.7793,-365.5 42.7793,-401.5 168.8311,-401.5 168.8311,-365.5 42.7793,-365.5\" stroke=\"#000000\"/>\n",
       "<text fill=\"#000000\" font-family=\"Times,serif\" font-size=\"14.00\" text-anchor=\"middle\" x=\"105.8052\" y=\"-379.3\">conv2d_3: Conv2D</text>\n",
       "</g>\n",
       "<!-- 5077081112&#45;&gt;5077080160 -->\n",
       "<g class=\"edge\" id=\"edge3\">\n",
       "<title>5077081112-&gt;5077080160</title>\n",
       "<path d=\"M105.8052,-438.4551C105.8052,-430.3828 105.8052,-420.6764 105.8052,-411.6817\" fill=\"none\" stroke=\"#000000\"/>\n",
       "<polygon fill=\"#000000\" points=\"109.3053,-411.5903 105.8052,-401.5904 102.3053,-411.5904 109.3053,-411.5903\" stroke=\"#000000\"/>\n",
       "</g>\n",
       "<!-- 5077145360 -->\n",
       "<g class=\"node\" id=\"node4\">\n",
       "<title>5077145360</title>\n",
       "<polygon fill=\"none\" points=\"0,-292.5 0,-328.5 211.6104,-328.5 211.6104,-292.5 0,-292.5\" stroke=\"#000000\"/>\n",
       "<text fill=\"#000000\" font-family=\"Times,serif\" font-size=\"14.00\" text-anchor=\"middle\" x=\"105.8052\" y=\"-306.3\">max_pooling2d_3: MaxPooling2D</text>\n",
       "</g>\n",
       "<!-- 5077080160&#45;&gt;5077145360 -->\n",
       "<g class=\"edge\" id=\"edge4\">\n",
       "<title>5077080160-&gt;5077145360</title>\n",
       "<path d=\"M105.8052,-365.4551C105.8052,-357.3828 105.8052,-347.6764 105.8052,-338.6817\" fill=\"none\" stroke=\"#000000\"/>\n",
       "<polygon fill=\"#000000\" points=\"109.3053,-338.5903 105.8052,-328.5904 102.3053,-338.5904 109.3053,-338.5903\" stroke=\"#000000\"/>\n",
       "</g>\n",
       "<!-- 5077032632 -->\n",
       "<g class=\"node\" id=\"node5\">\n",
       "<title>5077032632</title>\n",
       "<polygon fill=\"none\" points=\"50.1724,-219.5 50.1724,-255.5 161.438,-255.5 161.438,-219.5 50.1724,-219.5\" stroke=\"#000000\"/>\n",
       "<text fill=\"#000000\" font-family=\"Times,serif\" font-size=\"14.00\" text-anchor=\"middle\" x=\"105.8052\" y=\"-233.3\">flatten_1: Flatten</text>\n",
       "</g>\n",
       "<!-- 5077145360&#45;&gt;5077032632 -->\n",
       "<g class=\"edge\" id=\"edge5\">\n",
       "<title>5077145360-&gt;5077032632</title>\n",
       "<path d=\"M105.8052,-292.4551C105.8052,-284.3828 105.8052,-274.6764 105.8052,-265.6817\" fill=\"none\" stroke=\"#000000\"/>\n",
       "<polygon fill=\"#000000\" points=\"109.3053,-265.5903 105.8052,-255.5904 102.3053,-265.5904 109.3053,-265.5903\" stroke=\"#000000\"/>\n",
       "</g>\n",
       "<!-- 5077147376 -->\n",
       "<g class=\"node\" id=\"node6\">\n",
       "<title>5077147376</title>\n",
       "<polygon fill=\"none\" points=\"53.6792,-146.5 53.6792,-182.5 157.9312,-182.5 157.9312,-146.5 53.6792,-146.5\" stroke=\"#000000\"/>\n",
       "<text fill=\"#000000\" font-family=\"Times,serif\" font-size=\"14.00\" text-anchor=\"middle\" x=\"105.8052\" y=\"-160.3\">dense_1: Dense</text>\n",
       "</g>\n",
       "<!-- 5077032632&#45;&gt;5077147376 -->\n",
       "<g class=\"edge\" id=\"edge6\">\n",
       "<title>5077032632-&gt;5077147376</title>\n",
       "<path d=\"M105.8052,-219.4551C105.8052,-211.3828 105.8052,-201.6764 105.8052,-192.6817\" fill=\"none\" stroke=\"#000000\"/>\n",
       "<polygon fill=\"#000000\" points=\"109.3053,-192.5903 105.8052,-182.5904 102.3053,-192.5904 109.3053,-192.5903\" stroke=\"#000000\"/>\n",
       "</g>\n",
       "<!-- 5077263080 -->\n",
       "<g class=\"node\" id=\"node7\">\n",
       "<title>5077263080</title>\n",
       "<polygon fill=\"none\" points=\"53.6792,-73.5 53.6792,-109.5 157.9312,-109.5 157.9312,-73.5 53.6792,-73.5\" stroke=\"#000000\"/>\n",
       "<text fill=\"#000000\" font-family=\"Times,serif\" font-size=\"14.00\" text-anchor=\"middle\" x=\"105.8052\" y=\"-87.3\">dense_2: Dense</text>\n",
       "</g>\n",
       "<!-- 5077147376&#45;&gt;5077263080 -->\n",
       "<g class=\"edge\" id=\"edge7\">\n",
       "<title>5077147376-&gt;5077263080</title>\n",
       "<path d=\"M105.8052,-146.4551C105.8052,-138.3828 105.8052,-128.6764 105.8052,-119.6817\" fill=\"none\" stroke=\"#000000\"/>\n",
       "<polygon fill=\"#000000\" points=\"109.3053,-119.5903 105.8052,-109.5904 102.3053,-119.5904 109.3053,-119.5903\" stroke=\"#000000\"/>\n",
       "</g>\n",
       "<!-- 5077386128 -->\n",
       "<g class=\"node\" id=\"node8\">\n",
       "<title>5077386128</title>\n",
       "<polygon fill=\"none\" points=\"53.6792,-.5 53.6792,-36.5 157.9312,-36.5 157.9312,-.5 53.6792,-.5\" stroke=\"#000000\"/>\n",
       "<text fill=\"#000000\" font-family=\"Times,serif\" font-size=\"14.00\" text-anchor=\"middle\" x=\"105.8052\" y=\"-14.3\">dense_3: Dense</text>\n",
       "</g>\n",
       "<!-- 5077263080&#45;&gt;5077386128 -->\n",
       "<g class=\"edge\" id=\"edge8\">\n",
       "<title>5077263080-&gt;5077386128</title>\n",
       "<path d=\"M105.8052,-73.4551C105.8052,-65.3828 105.8052,-55.6764 105.8052,-46.6817\" fill=\"none\" stroke=\"#000000\"/>\n",
       "<polygon fill=\"#000000\" points=\"109.3053,-46.5903 105.8052,-36.5904 102.3053,-46.5904 109.3053,-46.5903\" stroke=\"#000000\"/>\n",
       "</g>\n",
       "<!-- 5077080384 -->\n",
       "<g class=\"node\" id=\"node9\">\n",
       "<title>5077080384</title>\n",
       "<polygon fill=\"none\" points=\"62.8052,-584.5 62.8052,-620.5 148.8052,-620.5 148.8052,-584.5 62.8052,-584.5\" stroke=\"#000000\"/>\n",
       "<text fill=\"#000000\" font-family=\"Times,serif\" font-size=\"14.00\" text-anchor=\"middle\" x=\"105.8052\" y=\"-598.3\">5077080384</text>\n",
       "</g>\n",
       "<!-- 5077080384&#45;&gt;5077079824 -->\n",
       "<g class=\"edge\" id=\"edge1\">\n",
       "<title>5077080384-&gt;5077079824</title>\n",
       "<path d=\"M105.8052,-584.4551C105.8052,-576.3828 105.8052,-566.6764 105.8052,-557.6817\" fill=\"none\" stroke=\"#000000\"/>\n",
       "<polygon fill=\"#000000\" points=\"109.3053,-557.5903 105.8052,-547.5904 102.3053,-557.5904 109.3053,-557.5903\" stroke=\"#000000\"/>\n",
       "</g>\n",
       "</g>\n",
       "</svg>"
      ],
      "text/plain": [
       "<IPython.core.display.SVG object>"
      ]
     },
     "execution_count": 14,
     "metadata": {},
     "output_type": "execute_result"
    }
   ],
   "source": [
    "SVG(model_to_dot(model).create(prog='dot', format='svg'))"
   ]
  },
  {
   "cell_type": "code",
   "execution_count": 15,
   "metadata": {},
   "outputs": [
    {
     "name": "stdout",
     "output_type": "stream",
     "text": [
      "Train on 40000 samples, validate on 10000 samples\n",
      "Epoch 1/100\n",
      "40000/40000 [==============================] - 31s 771us/sample - loss: 1.7712 - acc: 0.3651 - val_loss: 1.5167 - val_acc: 0.4581\n",
      "Epoch 2/100\n",
      "40000/40000 [==============================] - 33s 833us/sample - loss: 1.4420 - acc: 0.4841 - val_loss: 1.4392 - val_acc: 0.4861\n",
      "Epoch 3/100\n",
      "40000/40000 [==============================] - 43s 1ms/sample - loss: 1.3259 - acc: 0.5259 - val_loss: 1.3248 - val_acc: 0.5269\n",
      "Epoch 4/100\n",
      "40000/40000 [==============================] - 41s 1ms/sample - loss: 1.2520 - acc: 0.5544 - val_loss: 1.2898 - val_acc: 0.5442\n",
      "Epoch 5/100\n",
      "40000/40000 [==============================] - 37s 925us/sample - loss: 1.1959 - acc: 0.5741 - val_loss: 1.2384 - val_acc: 0.5611\n",
      "Epoch 6/100\n",
      "40000/40000 [==============================] - 42s 1ms/sample - loss: 1.1422 - acc: 0.5947 - val_loss: 1.2178 - val_acc: 0.5691\n",
      "Epoch 7/100\n",
      "40000/40000 [==============================] - 36s 911us/sample - loss: 1.0928 - acc: 0.6125 - val_loss: 1.1962 - val_acc: 0.5796\n",
      "Epoch 8/100\n",
      "40000/40000 [==============================] - 38s 940us/sample - loss: 1.0546 - acc: 0.6291 - val_loss: 1.1789 - val_acc: 0.5907\n",
      "Epoch 9/100\n",
      "40000/40000 [==============================] - 41s 1ms/sample - loss: 1.0153 - acc: 0.6399 - val_loss: 1.1855 - val_acc: 0.5811\n",
      "Epoch 00009: early stopping\n"
     ]
    },
    {
     "data": {
      "text/plain": [
       "<tensorflow.python.keras.callbacks.History at 0x12f5b7908>"
      ]
     },
     "execution_count": 15,
     "metadata": {},
     "output_type": "execute_result"
    }
   ],
   "source": [
    "early_stopping = EarlyStopping(patience=1, verbose=1)\n",
    "model.fit(x=x_train, y=y_train, batch_size=128, epochs=100, verbose=1,\n",
    "          validation_data=(x_valid, y_valid), callbacks=[early_stopping])"
   ]
  },
  {
   "cell_type": "code",
   "execution_count": null,
   "metadata": {},
   "outputs": [],
   "source": []
  }
 ],
 "metadata": {
  "kernelspec": {
   "display_name": "Python 3",
   "language": "python",
   "name": "python3"
  },
  "language_info": {
   "codemirror_mode": {
    "name": "ipython",
    "version": 3
   },
   "file_extension": ".py",
   "mimetype": "text/x-python",
   "name": "python",
   "nbconvert_exporter": "python",
   "pygments_lexer": "ipython3",
   "version": "3.6.0"
  }
 },
 "nbformat": 4,
 "nbformat_minor": 2
}
