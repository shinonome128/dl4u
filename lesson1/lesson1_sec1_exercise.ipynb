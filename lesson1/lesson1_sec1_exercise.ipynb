{
 "cells": [
  {
   "cell_type": "markdown",
   "metadata": {},
   "source": [
    "# Lesson1 手書き文字認識をしよう（ニューラルネットワーク入門）"
   ]
  },
  {
   "cell_type": "markdown",
   "metadata": {},
   "source": [
    "## 目次\n",
    "\n",
    "- Section1 解説\n",
    "  - 1.1 Keras実装プロセス\n",
    "  - 1.2 各モデルLayer\n",
    "  - 1.3 損失関数\n",
    "  - 1.4 評価関数\n",
    "  - 1.5 Functional API\n",
    "  - 1.6 確認問題\n",
    "- Section2 実装①\n",
    "  - 2.1 MNISTによるMLPの復習\n",
    "- Section3 テクニック・発展内容\n",
    "  - 3.1 前処理\n",
    "  - 3.2 勾配に関するテクニック\n",
    "    - 3.2.1 最適化アルゴリズム (optimizer)\n",
    "    - 3.2.2 活性化関数 (activation)\n",
    "    - 3.2.3 初期化 (initializer)\n",
    "  - 3.3 過学習に関するテクニック\n",
    "    - 3.3.1 正則化 (regularization)\n",
    "    - 3.3.2 早期終了 (early stopping)\n",
    "    - 3.3.3 ドロップアウト (dropout)\n",
    "  - 3.4 確認問題\n",
    "- Section4 実装②\n",
    "  - 4.1 Fashion MNIST\n",
    "  - 4.2 実装"
   ]
  },
  {
   "cell_type": "markdown",
   "metadata": {},
   "source": [
    "## Section1 解説"
   ]
  },
  {
   "cell_type": "markdown",
   "metadata": {},
   "source": [
    "### 1.1 Keras実装プロセス"
   ]
  },
  {
   "cell_type": "markdown",
   "metadata": {},
   "source": [
    "今回は早速KerasでMLPの実装方法を見ていきたいと思います。\n",
    "\n",
    "まず、Kerasの雰囲気を感じ取ってもらうため、Kerasで機械学習を行う際に、\n",
    "\n",
    "1. いったいどういった手順を踏むか\n",
    "2. コードはどう書くのか\n",
    "\n",
    "をざっくりと見ていきたいと思います。\n",
    "\n",
    "題材としては、手書き数字画像を入力データ、対応する数字の値を出力データとする教師あり学習（分類）です。\n",
    "\n",
    "参考：https://keras.io/ja/"
   ]
  },
  {
   "cell_type": "markdown",
   "metadata": {},
   "source": [
    "### 1.1.0 データの用意\n",
    "まず機械学習を適用するデータを用意しなければ始まりません。\n",
    "\n",
    "ここでは、機械学習で頻繁に用いられる、MNISTの手書き数字データセットを用います。\n",
    "\n",
    "データセットの中身は、\n",
    "\n",
    "* x:手書き数字画像(28×28)\n",
    "* y:正解のラベル（xの画像が表す数字）\n",
    "\n",
    "となっていますが、\n",
    "\n",
    "* (x_train, y_train):モデルの学習用\n",
    "* (x_test, y_test):モデルの評価用\n",
    "\n",
    "と区別してあります。\n",
    "\n",
    "機械学習では汎化性能の向上が至上命題なので、学習用のデータだけでなく評価用のデータが必要になることは前回触れました。\n",
    "\n",
    "MNISTのデータセットも、全てのデータを使用するのではなく、学習用と評価用に予め分割してあるわけです。\n",
    "\n",
    "（分割は事前に行っておく必要があります。評価用のデータまで使用して学習を行うのは、カンニングと変わらなくなってしまいます。）\n",
    "\n",
    "なお、KerasではこのMNISTのデータセットに限らず、機械学習で頻繁に用いられるデータセットがいくつも用意されており、性能評価を手軽に行えます。\n",
    "\n",
    "keras.datasets以下からimportすることで使用できますので、ぜひ使っていきましょう。\n",
    "\n",
    "Kerasから直接使用できるデータセットの一覧はこちら( https://keras.io/ja/datasets/ )です。"
   ]
  },
  {
   "cell_type": "code",
   "execution_count": 1,
   "metadata": {},
   "outputs": [],
   "source": [
    "from tensorflow.keras.datasets import mnist\n",
    "\n",
    "(x_train, y_train), (x_test, y_test) = mnist.load_data()"
   ]
  },
  {
   "cell_type": "code",
   "execution_count": 2,
   "metadata": {},
   "outputs": [
    {
     "name": "stdout",
     "output_type": "stream",
     "text": [
      "(60000, 28, 28)\n",
      "(28, 28)\n",
      "[[  0   0   0   0   0   0   0   0   0   0   0   0   0   0   0   0   0   0\n",
      "    0   0   0   0   0   0   0   0   0   0]\n",
      " [  0   0   0   0   0   0   0   0   0   0   0   0   0   0   0   0   0   0\n",
      "    0   0   0   0   0   0   0   0   0   0]\n",
      " [  0   0   0   0   0   0   0   0   0   0   0   0   0   0   0   0   0   0\n",
      "    0   0   0   0   0   0   0   0   0   0]\n",
      " [  0   0   0   0   0   0   0   0   0   0   0   0   0   0   0   0   0   0\n",
      "    0   0   0   0   0   0   0   0   0   0]\n",
      " [  0   0   0   0   0   0   0   0   0   0   0   0   0   0   0   0   0   0\n",
      "    0   0   0   0   0   0   0   0   0   0]\n",
      " [  0   0   0   0   0   0   0   0   0   0   0   0   3  18  18  18 126 136\n",
      "  175  26 166 255 247 127   0   0   0   0]\n",
      " [  0   0   0   0   0   0   0   0  30  36  94 154 170 253 253 253 253 253\n",
      "  225 172 253 242 195  64   0   0   0   0]\n",
      " [  0   0   0   0   0   0   0  49 238 253 253 253 253 253 253 253 253 251\n",
      "   93  82  82  56  39   0   0   0   0   0]\n",
      " [  0   0   0   0   0   0   0  18 219 253 253 253 253 253 198 182 247 241\n",
      "    0   0   0   0   0   0   0   0   0   0]\n",
      " [  0   0   0   0   0   0   0   0  80 156 107 253 253 205  11   0  43 154\n",
      "    0   0   0   0   0   0   0   0   0   0]\n",
      " [  0   0   0   0   0   0   0   0   0  14   1 154 253  90   0   0   0   0\n",
      "    0   0   0   0   0   0   0   0   0   0]\n",
      " [  0   0   0   0   0   0   0   0   0   0   0 139 253 190   2   0   0   0\n",
      "    0   0   0   0   0   0   0   0   0   0]\n",
      " [  0   0   0   0   0   0   0   0   0   0   0  11 190 253  70   0   0   0\n",
      "    0   0   0   0   0   0   0   0   0   0]\n",
      " [  0   0   0   0   0   0   0   0   0   0   0   0  35 241 225 160 108   1\n",
      "    0   0   0   0   0   0   0   0   0   0]\n",
      " [  0   0   0   0   0   0   0   0   0   0   0   0   0  81 240 253 253 119\n",
      "   25   0   0   0   0   0   0   0   0   0]\n",
      " [  0   0   0   0   0   0   0   0   0   0   0   0   0   0  45 186 253 253\n",
      "  150  27   0   0   0   0   0   0   0   0]\n",
      " [  0   0   0   0   0   0   0   0   0   0   0   0   0   0   0  16  93 252\n",
      "  253 187   0   0   0   0   0   0   0   0]\n",
      " [  0   0   0   0   0   0   0   0   0   0   0   0   0   0   0   0   0 249\n",
      "  253 249  64   0   0   0   0   0   0   0]\n",
      " [  0   0   0   0   0   0   0   0   0   0   0   0   0   0  46 130 183 253\n",
      "  253 207   2   0   0   0   0   0   0   0]\n",
      " [  0   0   0   0   0   0   0   0   0   0   0   0  39 148 229 253 253 253\n",
      "  250 182   0   0   0   0   0   0   0   0]\n",
      " [  0   0   0   0   0   0   0   0   0   0  24 114 221 253 253 253 253 201\n",
      "   78   0   0   0   0   0   0   0   0   0]\n",
      " [  0   0   0   0   0   0   0   0  23  66 213 253 253 253 253 198  81   2\n",
      "    0   0   0   0   0   0   0   0   0   0]\n",
      " [  0   0   0   0   0   0  18 171 219 253 253 253 253 195  80   9   0   0\n",
      "    0   0   0   0   0   0   0   0   0   0]\n",
      " [  0   0   0   0  55 172 226 253 253 253 253 244 133  11   0   0   0   0\n",
      "    0   0   0   0   0   0   0   0   0   0]\n",
      " [  0   0   0   0 136 253 253 253 212 135 132  16   0   0   0   0   0   0\n",
      "    0   0   0   0   0   0   0   0   0   0]\n",
      " [  0   0   0   0   0   0   0   0   0   0   0   0   0   0   0   0   0   0\n",
      "    0   0   0   0   0   0   0   0   0   0]\n",
      " [  0   0   0   0   0   0   0   0   0   0   0   0   0   0   0   0   0   0\n",
      "    0   0   0   0   0   0   0   0   0   0]\n",
      " [  0   0   0   0   0   0   0   0   0   0   0   0   0   0   0   0   0   0\n",
      "    0   0   0   0   0   0   0   0   0   0]]\n"
     ]
    }
   ],
   "source": [
    "print(x_train.shape)\n",
    "print(x_train[0].shape)\n",
    "print(x_train[0])"
   ]
  },
  {
   "cell_type": "markdown",
   "metadata": {},
   "source": [
    "今回扱うMNISTの手書き数字のデータを下記で表示してみましょう。\n",
    "\n",
    "表示する際には、matplotlibを用います。これはPythonでグラフの表示をする際に標準的に用いられるライブラリです。\n",
    "\n",
    "中でもpyplotは最もよく使用されるモジュールで、標準的な描画処理の多くに対応しています。\n",
    "\n",
    "ここでは詳しくは説明しませんが、公式のマニュアルでpyplotに含まれる関数に目を通しておくことをお勧めします。\n",
    "\n",
    "参考：https://matplotlib.org/api/pyplot_api.html\n",
    "\n",
    "なお、jupyer notebook上でmatplotlibの結果を表示するには、`%matplotlib inline`を冒頭で宣言する必要があります。\n",
    "\n",
    "（ちなみに、このような`%`あるいは`%%`から始まるjupyter notebookに対するコマンドはマジックコマンドと呼ばれ、他にも様々なものが存在します。）\n",
    "\n",
    "また、MNISTの画像には、それぞれに対して画像が示す数字が正解のラベルとして与えられています。"
   ]
  },
  {
   "cell_type": "code",
   "execution_count": 3,
   "metadata": {
    "scrolled": true
   },
   "outputs": [
    {
     "data": {
      "image/png": "[encoded data removed]",
      "text/plain": [
       "<Figure size 648x1080 with 9 Axes>"
      ]
     },
     "metadata": {},
     "output_type": "display_data"
    }
   ],
   "source": [
    "%matplotlib inline\n",
    "import matplotlib.pyplot as plt\n",
    "\n",
    "fig = plt.figure(figsize=(9, 15))\n",
    "fig.subplots_adjust(left=0, right=1, bottom=0, top=0.5, hspace=0.05, wspace=0.05)\n",
    "\n",
    "# 各MNIST画像の上に（タイトルとして）対応するラベルを表示\n",
    "for i in range(9):\n",
    "    ax = fig.add_subplot(1, 9, i + 1, xticks=[], yticks=[])\n",
    "    ax.set_title(str(y_train[i]))\n",
    "    ax.imshow(x_train[i], cmap='gray')"
   ]
  },
  {
   "cell_type": "markdown",
   "metadata": {},
   "source": [
    "これから、このMNISTの各画像が0～9のどの数字であるか分類する事を考えていきます。\n",
    "\n",
    "問題としては、いわゆる10クラス分類の問題です。（分類先のことを**クラス**と呼びます）\n",
    "\n",
    "さて、ここで特に分類タスクの際に気をつけたいことがあります。\n",
    "\n",
    "分類タスクの時の出力データはラベルですが、ラベルは数字としての大小には意味がないということです。\n",
    "\n",
    "というのも、グループの名前として数字を割り振っているだけであるためです。こうした数字を**名義尺度**と呼びます。\n",
    "\n",
    "機械学習のアルゴリズムでは数字の大小に意味があるものとして扱ってしまうため、名義尺度をうまく変換しなければなりません。\n",
    "\n",
    "この名義尺度を変換する表現として使用されるのが、**one-hot表現**と呼ばれるものです。\n",
    "\n",
    "全体で3クラスあるときの各クラスの表現は次の通りです。\n",
    "\n",
    "<ul>\n",
    "    <li>1：$[1,0,0]$</li>\n",
    "    <li>2：$[0,1,0]$</li>\n",
    "    <li>3：$[0,0,1]$</li>\n",
    "</ul>\n",
    "\n",
    "長さ3のベクトルを用いて、各クラスの対応する要素のみ1として表現するということです。\n",
    "\n",
    "一般化すると、全体で$K$クラスある時、$k$番目のクラスに属するとき、\n",
    "\n",
    "$$\\underset{K}{\\underbrace{[0,\\cdots,0,\\overset{k}{\\check{1}},0,\\cdots,0]}}$$\n",
    "\n",
    "と表現するということです。\n",
    "\n",
    "このone-hot表現への変換を行ってくれる関数がKerasにはあります。\n",
    "\n",
    "keras.utils.to_categorical関数がその関数です。さっそくMNISTのデータセットにも適用してみましょう。\n",
    "\n",
    "https://keras.io/ja/utils/#to_categorical"
   ]
  },
  {
   "cell_type": "code",
   "execution_count": 4,
   "metadata": {},
   "outputs": [],
   "source": [
    "from tensorflow.keras.utils import to_categorical\n",
    "\n",
    "# 入力画像を行列(28x28)からベクトル(長さ784)に変換\n",
    "x_train = x_train.reshape(-1, 784)\n",
    "x_test = x_test.reshape(-1, 784)\n",
    "\n",
    "# 名義尺度の値をone-hot表現へ変換\n",
    "y_train = to_categorical(y_train)\n",
    "y_test = to_categorical(y_test)"
   ]
  },
  {
   "cell_type": "markdown",
   "metadata": {},
   "source": [
    "### 1.1.1 モデル構築\n",
    "\n",
    "学習に使用するMLPのモデルを構築します。具体的には、どんなlayer（層）をどこに配置するか、また各layerのユニット数はいくつかを指定していきます。\n",
    "\n",
    "このモデルを構築するための「容器」として機能するのが、keras.models.Sequentialクラスです。\n",
    "\n",
    "この「容器」の中に、Sequential.add関数によってkeras.layersに定義されているlayerクラス（後で詳述）を積み重ねていくことでモデルの構築を行います。\n",
    "\n",
    "layerをSequentialクラスに積み終えたら、最後にSequential.compile関数でモデルの学習処理について指定し、モデル構築は完了です。\n",
    "\n",
    "compile関数では\n",
    "\n",
    "* optimizer（最適化手法）\n",
    "* loss（損失関数）\n",
    "* metrics（評価関数（任意））\n",
    "\n",
    "を指定することになります。（いずれも後で詳述）\n",
    "\n",
    "https://keras.io/ja/models/sequential/"
   ]
  },
  {
   "cell_type": "code",
   "execution_count": 5,
   "metadata": {},
   "outputs": [
    {
     "name": "stdout",
     "output_type": "stream",
     "text": [
      "WARNING:tensorflow:From /usr/local/var/pyenv/versions/3.6.0/lib/python3.6/site-packages/tensorflow/python/ops/resource_variable_ops.py:435: colocate_with (from tensorflow.python.framework.ops) is deprecated and will be removed in a future version.\n",
      "Instructions for updating:\n",
      "Colocations handled automatically by placer.\n"
     ]
    }
   ],
   "source": [
    "from tensorflow.keras.models import Sequential\n",
    "from tensorflow.keras.layers import Dense, Activation\n",
    "\n",
    "# モデルの「容器」を作成\n",
    "model = Sequential()\n",
    "\n",
    "# 「容器」へ各layer（Dense, Activation）を積み重ねていく（追加した順に配置されるので注意）\n",
    "# 最初のlayerはinput_shapeを指定して、入力するデータの次元を与える必要がある\n",
    "model.add(Dense(units=256, input_shape=(784,)))\n",
    "model.add(Activation('relu'))\n",
    "model.add(Dense(units=100))\n",
    "model.add(Activation('relu'))\n",
    "model.add(Dense(units=10))\n",
    "model.add(Activation('softmax'))\n",
    "\n",
    "# モデルの学習方法について指定しておく\n",
    "model.compile(loss='categorical_crossentropy',\n",
    "              optimizer='sgd',\n",
    "              metrics=['accuracy'])"
   ]
  },
  {
   "cell_type": "markdown",
   "metadata": {},
   "source": [
    "### 1.1.2 モデルの学習\n",
    "\n",
    "1.2.1で構築したモデルで実際に学習を行うには、Sequential.fit関数を用います。この関数は固定長のバッチで学習を行います。\n",
    "\n",
    "主な引数は次の通りです。\n",
    "\n",
    "* x：学習に使用する入力データ\n",
    "* y：学習に使用する出力データ\n",
    "* batch_size：学習中のパラメータ更新を1回行うにあたって用いるサンプル数（ミニバッチのサイズ）\n",
    "* epochs：学習のエポック数\n",
    "* verbose：学習のログを出力するか（0:しない、1：バーで出力、2:エポックごとに出力）\n",
    "* validation_split/validation_data：検証用に用いるデータの割合（0～１の実数）、または検証用データそのもの（いずれかのみ指定可能）\n",
    "* shuffle：各エポックごとにデータをシャッフルするか\n",
    "* callbacks：訓練中のモデルの挙動を監視できるcallback関数を指定できます"
   ]
  },
  {
   "cell_type": "code",
   "execution_count": 6,
   "metadata": {
    "scrolled": false
   },
   "outputs": [
    {
     "name": "stdout",
     "output_type": "stream",
     "text": [
      "Train on 60000 samples, validate on 10000 samples\n",
      "WARNING:tensorflow:From /usr/local/var/pyenv/versions/3.6.0/lib/python3.6/site-packages/tensorflow/python/ops/math_ops.py:3066: to_int32 (from tensorflow.python.ops.math_ops) is deprecated and will be removed in a future version.\n",
      "Instructions for updating:\n",
      "Use tf.cast instead.\n",
      "Epoch 1/10\n",
      "60000/60000 [==============================] - 2s 29us/sample - loss: 9.0426 - acc: 0.4322 - val_loss: 7.2552 - val_acc: 0.5460\n",
      "Epoch 2/10\n",
      "60000/60000 [==============================] - 2s 28us/sample - loss: 7.1732 - acc: 0.5512 - val_loss: 7.1773 - val_acc: 0.5513\n",
      "Epoch 3/10\n",
      "60000/60000 [==============================] - 2s 27us/sample - loss: 7.0345 - acc: 0.5601 - val_loss: 7.0494 - val_acc: 0.5600\n",
      "Epoch 4/10\n",
      "60000/60000 [==============================] - 1s 25us/sample - loss: 6.9536 - acc: 0.5656 - val_loss: 7.0439 - val_acc: 0.5600\n",
      "Epoch 5/10\n",
      "60000/60000 [==============================] - 2s 26us/sample - loss: 6.3197 - acc: 0.6032 - val_loss: 3.9635 - val_acc: 0.7463\n",
      "Epoch 6/10\n",
      "60000/60000 [==============================] - 1s 21us/sample - loss: 3.8937 - acc: 0.7522 - val_loss: 3.8018 - val_acc: 0.7584\n",
      "Epoch 7/10\n",
      "60000/60000 [==============================] - 1s 22us/sample - loss: 3.6406 - acc: 0.7681 - val_loss: 3.2253 - val_acc: 0.7893\n",
      "Epoch 8/10\n",
      "60000/60000 [==============================] - 1s 21us/sample - loss: 1.8401 - acc: 0.8739 - val_loss: 0.9977 - val_acc: 0.9253\n",
      "Epoch 9/10\n",
      "60000/60000 [==============================] - 1s 20us/sample - loss: 0.8991 - acc: 0.9322 - val_loss: 1.0962 - val_acc: 0.9173\n",
      "Epoch 10/10\n",
      "60000/60000 [==============================] - 1s 20us/sample - loss: 0.7123 - acc: 0.9456 - val_loss: 0.7675 - val_acc: 0.9413\n"
     ]
    },
    {
     "data": {
      "text/plain": [
       "<tensorflow.python.keras.callbacks.History at 0x13267b828>"
      ]
     },
     "execution_count": 6,
     "metadata": {},
     "output_type": "execute_result"
    }
   ],
   "source": [
    "model.fit(x_train, y_train,\n",
    "          batch_size=1000, epochs=10, verbose=1,\n",
    "          validation_data=(x_test, y_test))"
   ]
  },
  {
   "cell_type": "markdown",
   "metadata": {},
   "source": [
    "モデルの評価を行うには、Sequential.evaluate関数を用います。この関数は固定長のバッチごとに損失関数値または評価関数値を出力します。\n",
    "\n",
    "主な引数は次の通りです。\n",
    "\n",
    "* x：評価に使用する入力データ\n",
    "* y：評価に使用する出力データ\n",
    "* batch_size：1回の評価を行うにあたって用いるサンプル数\n",
    "* verbose：評価のログを出力するか（0:しない、1：する(デフォルト)）"
   ]
  },
  {
   "cell_type": "code",
   "execution_count": 7,
   "metadata": {},
   "outputs": [
    {
     "name": "stdout",
     "output_type": "stream",
     "text": [
      "Test loss: 0.767516577097293\n",
      "Test accuracy: 0.9413\n"
     ]
    }
   ],
   "source": [
    "score = model.evaluate(x_test, y_test, verbose=0)\n",
    "print('Test loss:', score[0])\n",
    "print('Test accuracy:', score[1])"
   ]
  },
  {
   "cell_type": "markdown",
   "metadata": {},
   "source": [
    "### 1.1.3 モデルによる予測\n",
    "\n",
    "1.2.2で学習させたモデルによって予測を行ってみましょう。Sequential.predict関数によって予測が行えます。\n",
    "\n",
    "主な引数は次の通りです。\n",
    "\n",
    "* x：予測に使用する入力データ\n",
    "* batch_size：まとめて1度に予測を行うサンプル数\n",
    "* verbose：評価のログを出力するか（0:しない(デフォルト)、1：する）"
   ]
  },
  {
   "cell_type": "code",
   "execution_count": 8,
   "metadata": {},
   "outputs": [],
   "source": [
    "classes = model.predict(x_test, batch_size=128)"
   ]
  },
  {
   "cell_type": "markdown",
   "metadata": {},
   "source": [
    "### 1.1.4 モデルの可視化\n",
    "\n",
    "1.1.1で作成したモデルは次のようにしてグラフで表現することができます。\n",
    "\n",
    "https://keras.io/ja/visualization/"
   ]
  },
  {
   "cell_type": "code",
   "execution_count": 9,
   "metadata": {
    "scrolled": true
   },
   "outputs": [
    {
     "data": {
      "image/svg+xml": [
       "<svg height=\"531pt\" viewBox=\"0.00 0.00 298.24 531.00\" width=\"298pt\" xmlns=\"http://www.w3.org/2000/svg\" xmlns:xlink=\"http://www.w3.org/1999/xlink\">\n",
       "<g class=\"graph\" id=\"graph0\" transform=\"scale(1 1) rotate(0) translate(4 527)\">\n",
       "<title>G</title>\n",
       "<polygon fill=\"#ffffff\" points=\"-4,4 -4,-527 294.2383,-527 294.2383,4 -4,4\" stroke=\"transparent\"/>\n",
       "<!-- 5137979544 -->\n",
       "<g class=\"node\" id=\"node1\">\n",
       "<title>5137979544</title>\n",
       "<polygon fill=\"none\" points=\"30.3345,-405.5 30.3345,-449.5 259.9038,-449.5 259.9038,-405.5 30.3345,-405.5\" stroke=\"#000000\"/>\n",
       "<text fill=\"#000000\" font-family=\"Times,serif\" font-size=\"14.00\" text-anchor=\"middle\" x=\"75.4604\" y=\"-423.3\">dense: Dense</text>\n",
       "<polyline fill=\"none\" points=\"120.5864,-405.5 120.5864,-449.5 \" stroke=\"#000000\"/>\n",
       "<text fill=\"#000000\" font-family=\"Times,serif\" font-size=\"14.00\" text-anchor=\"middle\" x=\"148.4209\" y=\"-434.3\">input:</text>\n",
       "<polyline fill=\"none\" points=\"120.5864,-427.5 176.2554,-427.5 \" stroke=\"#000000\"/>\n",
       "<text fill=\"#000000\" font-family=\"Times,serif\" font-size=\"14.00\" text-anchor=\"middle\" x=\"148.4209\" y=\"-412.3\">output:</text>\n",
       "<polyline fill=\"none\" points=\"176.2554,-405.5 176.2554,-449.5 \" stroke=\"#000000\"/>\n",
       "<text fill=\"#000000\" font-family=\"Times,serif\" font-size=\"14.00\" text-anchor=\"middle\" x=\"218.0796\" y=\"-434.3\">(None, 784)</text>\n",
       "<polyline fill=\"none\" points=\"176.2554,-427.5 259.9038,-427.5 \" stroke=\"#000000\"/>\n",
       "<text fill=\"#000000\" font-family=\"Times,serif\" font-size=\"14.00\" text-anchor=\"middle\" x=\"218.0796\" y=\"-412.3\">(None, 256)</text>\n",
       "</g>\n",
       "<!-- 5137927808 -->\n",
       "<g class=\"node\" id=\"node2\">\n",
       "<title>5137927808</title>\n",
       "<polygon fill=\"none\" points=\"7,-324.5 7,-368.5 283.2383,-368.5 283.2383,-324.5 7,-324.5\" stroke=\"#000000\"/>\n",
       "<text fill=\"#000000\" font-family=\"Times,serif\" font-size=\"14.00\" text-anchor=\"middle\" x=\"75.4604\" y=\"-342.3\">activation: Activation</text>\n",
       "<polyline fill=\"none\" points=\"143.9209,-324.5 143.9209,-368.5 \" stroke=\"#000000\"/>\n",
       "<text fill=\"#000000\" font-family=\"Times,serif\" font-size=\"14.00\" text-anchor=\"middle\" x=\"171.7554\" y=\"-353.3\">input:</text>\n",
       "<polyline fill=\"none\" points=\"143.9209,-346.5 199.5898,-346.5 \" stroke=\"#000000\"/>\n",
       "<text fill=\"#000000\" font-family=\"Times,serif\" font-size=\"14.00\" text-anchor=\"middle\" x=\"171.7554\" y=\"-331.3\">output:</text>\n",
       "<polyline fill=\"none\" points=\"199.5898,-324.5 199.5898,-368.5 \" stroke=\"#000000\"/>\n",
       "<text fill=\"#000000\" font-family=\"Times,serif\" font-size=\"14.00\" text-anchor=\"middle\" x=\"241.4141\" y=\"-353.3\">(None, 256)</text>\n",
       "<polyline fill=\"none\" points=\"199.5898,-346.5 283.2383,-346.5 \" stroke=\"#000000\"/>\n",
       "<text fill=\"#000000\" font-family=\"Times,serif\" font-size=\"14.00\" text-anchor=\"middle\" x=\"241.4141\" y=\"-331.3\">(None, 256)</text>\n",
       "</g>\n",
       "<!-- 5137979544&#45;&gt;5137927808 -->\n",
       "<g class=\"edge\" id=\"edge2\">\n",
       "<title>5137979544-&gt;5137927808</title>\n",
       "<path d=\"M145.1191,-405.3664C145.1191,-397.1516 145.1191,-387.6579 145.1191,-378.7252\" fill=\"none\" stroke=\"#000000\"/>\n",
       "<polygon fill=\"#000000\" points=\"148.6192,-378.6068 145.1191,-368.6068 141.6192,-378.6069 148.6192,-378.6068\" stroke=\"#000000\"/>\n",
       "</g>\n",
       "<!-- 5137982016 -->\n",
       "<g class=\"node\" id=\"node3\">\n",
       "<title>5137982016</title>\n",
       "<polygon fill=\"none\" points=\"23.3345,-243.5 23.3345,-287.5 266.9038,-287.5 266.9038,-243.5 23.3345,-243.5\" stroke=\"#000000\"/>\n",
       "<text fill=\"#000000\" font-family=\"Times,serif\" font-size=\"14.00\" text-anchor=\"middle\" x=\"75.4604\" y=\"-261.3\">dense_1: Dense</text>\n",
       "<polyline fill=\"none\" points=\"127.5864,-243.5 127.5864,-287.5 \" stroke=\"#000000\"/>\n",
       "<text fill=\"#000000\" font-family=\"Times,serif\" font-size=\"14.00\" text-anchor=\"middle\" x=\"155.4209\" y=\"-272.3\">input:</text>\n",
       "<polyline fill=\"none\" points=\"127.5864,-265.5 183.2554,-265.5 \" stroke=\"#000000\"/>\n",
       "<text fill=\"#000000\" font-family=\"Times,serif\" font-size=\"14.00\" text-anchor=\"middle\" x=\"155.4209\" y=\"-250.3\">output:</text>\n",
       "<polyline fill=\"none\" points=\"183.2554,-243.5 183.2554,-287.5 \" stroke=\"#000000\"/>\n",
       "<text fill=\"#000000\" font-family=\"Times,serif\" font-size=\"14.00\" text-anchor=\"middle\" x=\"225.0796\" y=\"-272.3\">(None, 256)</text>\n",
       "<polyline fill=\"none\" points=\"183.2554,-265.5 266.9038,-265.5 \" stroke=\"#000000\"/>\n",
       "<text fill=\"#000000\" font-family=\"Times,serif\" font-size=\"14.00\" text-anchor=\"middle\" x=\"225.0796\" y=\"-250.3\">(None, 100)</text>\n",
       "</g>\n",
       "<!-- 5137927808&#45;&gt;5137982016 -->\n",
       "<g class=\"edge\" id=\"edge3\">\n",
       "<title>5137927808-&gt;5137982016</title>\n",
       "<path d=\"M145.1191,-324.3664C145.1191,-316.1516 145.1191,-306.6579 145.1191,-297.7252\" fill=\"none\" stroke=\"#000000\"/>\n",
       "<polygon fill=\"#000000\" points=\"148.6192,-297.6068 145.1191,-287.6068 141.6192,-297.6069 148.6192,-297.6068\" stroke=\"#000000\"/>\n",
       "</g>\n",
       "<!-- 5137982296 -->\n",
       "<g class=\"node\" id=\"node4\">\n",
       "<title>5137982296</title>\n",
       "<polygon fill=\"none\" points=\"0,-162.5 0,-206.5 290.2383,-206.5 290.2383,-162.5 0,-162.5\" stroke=\"#000000\"/>\n",
       "<text fill=\"#000000\" font-family=\"Times,serif\" font-size=\"14.00\" text-anchor=\"middle\" x=\"75.4604\" y=\"-180.3\">activation_1: Activation</text>\n",
       "<polyline fill=\"none\" points=\"150.9209,-162.5 150.9209,-206.5 \" stroke=\"#000000\"/>\n",
       "<text fill=\"#000000\" font-family=\"Times,serif\" font-size=\"14.00\" text-anchor=\"middle\" x=\"178.7554\" y=\"-191.3\">input:</text>\n",
       "<polyline fill=\"none\" points=\"150.9209,-184.5 206.5898,-184.5 \" stroke=\"#000000\"/>\n",
       "<text fill=\"#000000\" font-family=\"Times,serif\" font-size=\"14.00\" text-anchor=\"middle\" x=\"178.7554\" y=\"-169.3\">output:</text>\n",
       "<polyline fill=\"none\" points=\"206.5898,-162.5 206.5898,-206.5 \" stroke=\"#000000\"/>\n",
       "<text fill=\"#000000\" font-family=\"Times,serif\" font-size=\"14.00\" text-anchor=\"middle\" x=\"248.4141\" y=\"-191.3\">(None, 100)</text>\n",
       "<polyline fill=\"none\" points=\"206.5898,-184.5 290.2383,-184.5 \" stroke=\"#000000\"/>\n",
       "<text fill=\"#000000\" font-family=\"Times,serif\" font-size=\"14.00\" text-anchor=\"middle\" x=\"248.4141\" y=\"-169.3\">(None, 100)</text>\n",
       "</g>\n",
       "<!-- 5137982016&#45;&gt;5137982296 -->\n",
       "<g class=\"edge\" id=\"edge4\">\n",
       "<title>5137982016-&gt;5137982296</title>\n",
       "<path d=\"M145.1191,-243.3664C145.1191,-235.1516 145.1191,-225.6579 145.1191,-216.7252\" fill=\"none\" stroke=\"#000000\"/>\n",
       "<polygon fill=\"#000000\" points=\"148.6192,-216.6068 145.1191,-206.6068 141.6192,-216.6069 148.6192,-216.6068\" stroke=\"#000000\"/>\n",
       "</g>\n",
       "<!-- 5137983192 -->\n",
       "<g class=\"node\" id=\"node5\">\n",
       "<title>5137983192</title>\n",
       "<polygon fill=\"none\" points=\"23.3345,-81.5 23.3345,-125.5 266.9038,-125.5 266.9038,-81.5 23.3345,-81.5\" stroke=\"#000000\"/>\n",
       "<text fill=\"#000000\" font-family=\"Times,serif\" font-size=\"14.00\" text-anchor=\"middle\" x=\"75.4604\" y=\"-99.3\">dense_2: Dense</text>\n",
       "<polyline fill=\"none\" points=\"127.5864,-81.5 127.5864,-125.5 \" stroke=\"#000000\"/>\n",
       "<text fill=\"#000000\" font-family=\"Times,serif\" font-size=\"14.00\" text-anchor=\"middle\" x=\"155.4209\" y=\"-110.3\">input:</text>\n",
       "<polyline fill=\"none\" points=\"127.5864,-103.5 183.2554,-103.5 \" stroke=\"#000000\"/>\n",
       "<text fill=\"#000000\" font-family=\"Times,serif\" font-size=\"14.00\" text-anchor=\"middle\" x=\"155.4209\" y=\"-88.3\">output:</text>\n",
       "<polyline fill=\"none\" points=\"183.2554,-81.5 183.2554,-125.5 \" stroke=\"#000000\"/>\n",
       "<text fill=\"#000000\" font-family=\"Times,serif\" font-size=\"14.00\" text-anchor=\"middle\" x=\"225.0796\" y=\"-110.3\">(None, 100)</text>\n",
       "<polyline fill=\"none\" points=\"183.2554,-103.5 266.9038,-103.5 \" stroke=\"#000000\"/>\n",
       "<text fill=\"#000000\" font-family=\"Times,serif\" font-size=\"14.00\" text-anchor=\"middle\" x=\"225.0796\" y=\"-88.3\">(None, 10)</text>\n",
       "</g>\n",
       "<!-- 5137982296&#45;&gt;5137983192 -->\n",
       "<g class=\"edge\" id=\"edge5\">\n",
       "<title>5137982296-&gt;5137983192</title>\n",
       "<path d=\"M145.1191,-162.3664C145.1191,-154.1516 145.1191,-144.6579 145.1191,-135.7252\" fill=\"none\" stroke=\"#000000\"/>\n",
       "<polygon fill=\"#000000\" points=\"148.6192,-135.6068 145.1191,-125.6068 141.6192,-135.6069 148.6192,-135.6068\" stroke=\"#000000\"/>\n",
       "</g>\n",
       "<!-- 4469757040 -->\n",
       "<g class=\"node\" id=\"node6\">\n",
       "<title>4469757040</title>\n",
       "<polygon fill=\"none\" points=\"3.5,-.5 3.5,-44.5 286.7383,-44.5 286.7383,-.5 3.5,-.5\" stroke=\"#000000\"/>\n",
       "<text fill=\"#000000\" font-family=\"Times,serif\" font-size=\"14.00\" text-anchor=\"middle\" x=\"78.9604\" y=\"-18.3\">activation_2: Activation</text>\n",
       "<polyline fill=\"none\" points=\"154.4209,-.5 154.4209,-44.5 \" stroke=\"#000000\"/>\n",
       "<text fill=\"#000000\" font-family=\"Times,serif\" font-size=\"14.00\" text-anchor=\"middle\" x=\"182.2554\" y=\"-29.3\">input:</text>\n",
       "<polyline fill=\"none\" points=\"154.4209,-22.5 210.0898,-22.5 \" stroke=\"#000000\"/>\n",
       "<text fill=\"#000000\" font-family=\"Times,serif\" font-size=\"14.00\" text-anchor=\"middle\" x=\"182.2554\" y=\"-7.3\">output:</text>\n",
       "<polyline fill=\"none\" points=\"210.0898,-.5 210.0898,-44.5 \" stroke=\"#000000\"/>\n",
       "<text fill=\"#000000\" font-family=\"Times,serif\" font-size=\"14.00\" text-anchor=\"middle\" x=\"248.4141\" y=\"-29.3\">(None, 10)</text>\n",
       "<polyline fill=\"none\" points=\"210.0898,-22.5 286.7383,-22.5 \" stroke=\"#000000\"/>\n",
       "<text fill=\"#000000\" font-family=\"Times,serif\" font-size=\"14.00\" text-anchor=\"middle\" x=\"248.4141\" y=\"-7.3\">(None, 10)</text>\n",
       "</g>\n",
       "<!-- 5137983192&#45;&gt;4469757040 -->\n",
       "<g class=\"edge\" id=\"edge6\">\n",
       "<title>5137983192-&gt;4469757040</title>\n",
       "<path d=\"M145.1191,-81.3664C145.1191,-73.1516 145.1191,-63.6579 145.1191,-54.7252\" fill=\"none\" stroke=\"#000000\"/>\n",
       "<polygon fill=\"#000000\" points=\"148.6192,-54.6068 145.1191,-44.6068 141.6192,-54.6069 148.6192,-54.6068\" stroke=\"#000000\"/>\n",
       "</g>\n",
       "<!-- 5137928144 -->\n",
       "<g class=\"node\" id=\"node7\">\n",
       "<title>5137928144</title>\n",
       "<polygon fill=\"none\" points=\"102.1191,-486.5 102.1191,-522.5 188.1191,-522.5 188.1191,-486.5 102.1191,-486.5\" stroke=\"#000000\"/>\n",
       "<text fill=\"#000000\" font-family=\"Times,serif\" font-size=\"14.00\" text-anchor=\"middle\" x=\"145.1191\" y=\"-500.3\">5137928144</text>\n",
       "</g>\n",
       "<!-- 5137928144&#45;&gt;5137979544 -->\n",
       "<g class=\"edge\" id=\"edge1\">\n",
       "<title>5137928144-&gt;5137979544</title>\n",
       "<path d=\"M145.1191,-486.2521C145.1191,-478.3888 145.1191,-468.9498 145.1191,-459.9612\" fill=\"none\" stroke=\"#000000\"/>\n",
       "<polygon fill=\"#000000\" points=\"148.6192,-459.7376 145.1191,-449.7377 141.6192,-459.7377 148.6192,-459.7376\" stroke=\"#000000\"/>\n",
       "</g>\n",
       "</g>\n",
       "</svg>"
      ],
      "text/plain": [
       "<IPython.core.display.SVG object>"
      ]
     },
     "execution_count": 9,
     "metadata": {},
     "output_type": "execute_result"
    }
   ],
   "source": [
    "from IPython.display import SVG\n",
    "from tensorflow.python.keras.utils.vis_utils import model_to_dot\n",
    "\n",
    "SVG(model_to_dot(model, show_shapes=True).create(prog='dot', format='svg'))"
   ]
  },
  {
   "cell_type": "markdown",
   "metadata": {},
   "source": [
    "### 1.2 各モデルLayer"
   ]
  },
  {
   "cell_type": "markdown",
   "metadata": {
    "collapsed": true
   },
   "source": [
    "ここからは、layerクラスについて詳しくみていきましょう。\n",
    "\n",
    "MLPで中心的な存在である、層を表すクラスがlayerクラスです。\n",
    "\n",
    "layerには様々な種類があり、そのそれぞれが独自の機能を持っているので、役割をある程度覚えておきましょう。\n",
    "\n",
    "今回は最もオーソドックスなlayerとして、keras.layers.core以下に定義されている中で使用頻度の高いものを紹介します。\n",
    "\n",
    "https://keras.io/ja/layers/about-keras-layers/\n",
    "\n",
    "https://keras.io/ja/layers/core/"
   ]
  },
  {
   "cell_type": "markdown",
   "metadata": {},
   "source": [
    "### 1.2.1 Dense\n",
    "\n",
    "一般的な全結合層を表すレイヤーです。つまり、入力$u\\in\\mathbb{R}^D$に対して、\n",
    "\n",
    "$$v = \\sigma(Wu+b) \\in\\mathbb{R}^{D'}$$\n",
    "\n",
    "を出力します。\n",
    "\n",
    "なお、$W\\in\\mathbb{R}^{D' \\times D}$は重み行列を表し、$b\\in\\mathbb{R}^{D'}$はバイアスを表しています。\n",
    "\n",
    "重み行列とバイアスは学習によって値が決まることに注意しましょう。\n",
    "\n",
    "また$\\sigma(x):\\mathbb{R}^{D'}\\to\\mathbb{R}^{D'}$は**活性化関数**と呼ばれるもので、任意に指定可能です。\n",
    "\n",
    "（実際には最後の出力層の活性化関数については問題の特性から決まることも多いです）\n",
    "\n",
    "一般に活性化関数には非線形関数を指定することで、MLPの性能を向上させます。"
   ]
  },
  {
   "cell_type": "markdown",
   "metadata": {},
   "source": [
    "```py\n",
    "keras.layers.core.Dense(units, activation=None, use_bias=True, kernel_initializer='glorot_uniform', bias_initializer='zeros',\n",
    "                        kernel_regularizer=None, bias_regularizer=None, activity_regularizer=None,\n",
    "                        kernel_constraint=None, bias_constraint=None)\n",
    "```"
   ]
  },
  {
   "cell_type": "markdown",
   "metadata": {},
   "source": [
    "主な引数は\n",
    "\n",
    "* units: 出力ユニット数($N$)\n",
    "* activation: 出力ユニットに適用する活性化関数、Activationレイヤーの説明を参照\n",
    "* use_bias: バイアス$b$を使用するか\n",
    "* kernel_initializer: 重み行列$W$の初期化方法（initializerについては3章で扱います）\n",
    "* bias_initializer: バイアス$b$の初期化方法（initializerについては3章で扱います）\n",
    "\n",
    "です。またshapeの入出力での変化は\n",
    "\n",
    "<ol>(batch_size, ..., input_dim) --> (batch_size, ..., units)</ol>\n",
    "\n",
    "のとおり、一番深いネストの次元がinput_dimからunitsに変わるだけです。\n",
    "\n",
    "1.1.1のモデルの構築で出てきた例を以下に再掲します。"
   ]
  },
  {
   "cell_type": "markdown",
   "metadata": {},
   "source": [
    "```py\n",
    "from keras.layers import Dense, Activation\n",
    "\n",
    "model.add(Dense(units=256, input_shape=(784,))) # 次元の変化: 784 -> 256\n",
    "model.add(Activation('relu'))\n",
    "model.add(Dense(units=100)) # 次元の変化: 256 -> 100\n",
    "model.add(Activation('relu'))\n",
    "model.add(Dense(units=10)) # 次元の変化: 100 -> 10\n",
    "model.add(Activation('softmax'))\n",
    "```"
   ]
  },
  {
   "cell_type": "markdown",
   "metadata": {},
   "source": [
    "### 1.2.2 Activation\n",
    "\n",
    "入力に対して活性化関数を適用したものを出力します。"
   ]
  },
  {
   "cell_type": "markdown",
   "metadata": {},
   "source": [
    "```py\n",
    "keras.layers.core.Activation(activation)\n",
    "```"
   ]
  },
  {
   "cell_type": "markdown",
   "metadata": {},
   "source": [
    "引数は\n",
    "\n",
    "* activation: 適用する活性化関数\n",
    "\n",
    "のみです。（入力と出力でshapeは変わりません）\n",
    "\n",
    "活性化関数として使用できる関数の一覧はこちら( https://keras.io/ja/activations/ )です。\n",
    "\n",
    "よく使用されるものを以下に示します。\n",
    "\n",
    "* sigmoid: $f(x)=\\dfrac{1}{1+e^{-x}}$\n",
    "* ReLU: $f(x)=\\max(0,x)$\n",
    "* tanh: $f(x)=\\tanh(x)=\\dfrac{e^x-e^{-x}}{e^x+e^{-x}}$\n",
    "* softmax: $f(x)=\\dfrac{\\exp(x_d)}{\\sum_{d'} \\exp(x_{d'})} \\quad (x\\in\\mathbb{R}^D,\\ d=1,2,\\ldots,D)$\n",
    "\n",
    "特にsoftmax関数は出力が規格化されているので、確率として解釈できるため多クラス分類タスクの出力層に使用されることが多いです。\n",
    "\n",
    "（2クラス分類であればsigmoid関数を出力層に使用することも多いです）\n",
    "\n",
    "ここで、活性化関数をプロットしてみましょう。(多変数関数のsoftmaxを除く)"
   ]
  },
  {
   "cell_type": "code",
   "execution_count": 10,
   "metadata": {},
   "outputs": [
    {
     "data": {
      "image/png": "[encoded data removed]",
      "text/plain": [
       "<Figure size 432x288 with 1 Axes>"
      ]
     },
     "metadata": {
      "needs_background": "light"
     },
     "output_type": "display_data"
    }
   ],
   "source": [
    "%matplotlib inline\n",
    "import numpy as np\n",
    "import matplotlib.pyplot as plt\n",
    "\n",
    "def sigmoid(x):\n",
    "    return 1 / (1+np.exp(-x))\n",
    "\n",
    "def relu(x):\n",
    "    return np.maximum(0, x)\n",
    "\n",
    "def tanh(x):\n",
    "    return np.tanh(x)\n",
    "\n",
    "fig = plt.figure()\n",
    "x = np.linspace(-10, 10, 1000)\n",
    "\n",
    "ax = fig.add_subplot(111)\n",
    "ax.plot(x, sigmoid(x), label='sigmoid')\n",
    "ax.plot(x, relu(x), label='ReLU')\n",
    "ax.plot(x, tanh(x), label='tanh')\n",
    "\n",
    "plt.legend()\n",
    "plt.xlim(-5, 5)\n",
    "plt.ylim(-1.1, 2)\n",
    "plt.grid(which='major',color='gray',linestyle='-')\n",
    "plt.show()"
   ]
  },
  {
   "cell_type": "markdown",
   "metadata": {},
   "source": [
    "1.1.1のモデルの構築で出てきた例を以下に再掲します。\n",
    "\n",
    "```py\n",
    "from keras.layers import Dense, Activation\n",
    "\n",
    "model.add(Dense(units=256, input_shape=(784,)))\n",
    "model.add(Activation('relu')) # 活性化関数として relu を選択\n",
    "model.add(Dense(units=100))\n",
    "model.add(Activation('relu')) # 活性化関数として relu を選択\n",
    "model.add(Dense(units=10))\n",
    "model.add(Activation('softmax')) # 活性化関数として softmax を選択\n",
    "```\n",
    "\n",
    "なお、活性化関数はDenseレイヤーなどで直接指定することも可能で、実際に以下のコードは上記と同じ結果になります。\n",
    "\n",
    "```py\n",
    "from keras.layers import Dense, Activation\n",
    "\n",
    "model.add(Dense(256, input_shape=(784,), activation='relu'))\n",
    "model.add(Dense(100, activation='relu'))\n",
    "model.add(Dense(10, activation='softmax'))\n",
    "```"
   ]
  },
  {
   "cell_type": "markdown",
   "metadata": {},
   "source": [
    "### 1.2.3 Flatten\n",
    "\n",
    "入力をフラット化します。つまり、リストの入れ子になっているデータを1つのリストに展開します。\n",
    "\n",
    "(Ex. [[1,2,3],[4,5,6],[7],[8,9]]->[1,2,3,4,5,6,7,8,9])"
   ]
  },
  {
   "cell_type": "markdown",
   "metadata": {},
   "source": [
    "```py\n",
    "keras.layers.core.Flatten()\n",
    "```"
   ]
  },
  {
   "cell_type": "markdown",
   "metadata": {},
   "source": [
    "例は次の通りです。（出力shapeはbatch_sizeを除く入力shapeの積）"
   ]
  },
  {
   "cell_type": "markdown",
   "metadata": {},
   "source": [
    "```py\n",
    "model = Sequential()\n",
    "model.add(Conv2D(64, (3, 3), input_shape=(3, 32, 32))) # 次元の変化: (3, 32, 32) -> (64, 32, 32)\n",
    "# Conv2Dは未修ですが、ここではその機能は関係ないので気にしなくて結構です\n",
    "\n",
    "model.add(Flatten()) # 次元の変化: (64, 32, 32) -> (65536,) (65536 = 64*32*32)\n",
    "```"
   ]
  },
  {
   "cell_type": "markdown",
   "metadata": {},
   "source": [
    "### 1.2.4 Reshape\n",
    "\n",
    "入力を指定のshapeに変換して出力します。"
   ]
  },
  {
   "cell_type": "markdown",
   "metadata": {},
   "source": [
    "```\n",
    "keras.layers.core.Reshape(target_shape)\n",
    "```"
   ]
  },
  {
   "cell_type": "markdown",
   "metadata": {},
   "source": [
    "引数は\n",
    "* target_shape: 変換先のshapeを表す整数のタプル、ただしサンプルの次元（バッチサイズ）を含まない\n",
    "\n",
    "例は次の通りです。"
   ]
  },
  {
   "cell_type": "markdown",
   "metadata": {},
   "source": [
    "```py\n",
    "model = Sequential()\n",
    "model.add(Reshape((3, 4), input_shape=(12,))) # 次元の変化: (12,) -> (3, 4)\n",
    "\n",
    "model.add(Reshape((6, 2))) # 次元の変化: (3, 4) -> (6, 2)\n",
    "\n",
    "# `-1`をしていすると、その次元については推定してくれます(6/2=3)\n",
    "model.add(Reshape((-1, 2, 2))) # 次元の変化: (6, 2) -> (?, 2, 2)=(3, 2, 2)\n",
    "```"
   ]
  },
  {
   "cell_type": "markdown",
   "metadata": {},
   "source": [
    "### 1.2.5 Permute\n",
    "\n",
    "入力の次元を入れ替えます。"
   ]
  },
  {
   "cell_type": "markdown",
   "metadata": {},
   "source": [
    "```py\n",
    "keras.layers.core.Permute(dims)\n",
    "```"
   ]
  },
  {
   "cell_type": "markdown",
   "metadata": {},
   "source": [
    "引数は\n",
    "\n",
    "* dims: 次元の入れ替え方を指定する整数のタプル、サンプルの次元はふくまない1から始まるindexで指定\n",
    "\n",
    "です。（入力と出力でshapeは変わりません）\n",
    "\n",
    "例は次の通りです。"
   ]
  },
  {
   "cell_type": "markdown",
   "metadata": {},
   "source": [
    "```py\n",
    "model = Sequential()\n",
    "model.add(Permute((2, 1), input_shape=(10, 64))) # 次元の変化: (10, 64) -> (64, 10)\n",
    "```"
   ]
  },
  {
   "cell_type": "markdown",
   "metadata": {},
   "source": [
    "### 1.2.6 RepeatVector\n",
    "\n",
    "入力を指定回数繰り返します。"
   ]
  },
  {
   "cell_type": "markdown",
   "metadata": {},
   "source": [
    "```py\n",
    "keras.layers.core.RepeatVector(n)\n",
    "```"
   ]
  },
  {
   "cell_type": "markdown",
   "metadata": {},
   "source": [
    "引数は\n",
    "\n",
    "* n: 入力の複製回数\n",
    "\n",
    "です。またshapeの入出力での変化は\n",
    "\n",
    "<ol>(num_samples, features) --> (num_samples, n, features)</ol>\n",
    "\n",
    "であり、入力には2階のテンソルのみを受け付けます。"
   ]
  },
  {
   "cell_type": "markdown",
   "metadata": {},
   "source": [
    "### 1.3 損失関数"
   ]
  },
  {
   "cell_type": "markdown",
   "metadata": {},
   "source": [
    "モデルの学習にあたっては、損失関数の最小化を行うわけでした。そこで、続いて損失関数についてみていきます。\n",
    "\n",
    "https://keras.io/ja/losses/\n",
    "\n",
    "kerasではモデルをコンパイルする際に損失関数を設定します。"
   ]
  },
  {
   "cell_type": "markdown",
   "metadata": {},
   "source": [
    "損失関数の選択においては、出力値が連続な場合と離散な場合で大きく異なってきます。\n",
    "\n",
    "#### 連続値のとき\n",
    "\n",
    " 主に使用されるのは**平均二乗誤差**です。これは各ミニバッチのデータ数を$N$として、\n",
    "\n",
    " $$E=\\dfrac{1}{N}\\sum_{n=1}^{N}(y_n-t_n)^2$$\n",
    "\n",
    " として表されます。(なお、$y_n, t_n$はそれぞれ入力$x_n$に対するモデルの出力値(y_pred)と出力データ(y_true)を表す)\n",
    "\n",
    " この平均二乗誤差を使用する場合、compile関数の引数として`loss='mean_squared_error'`を指定します。\n",
    "\n",
    "\n",
    "#### 離散値のとき\n",
    "\n",
    "主に使用されるのは、**（多クラス）交差エントロピー**です。2クラス分類の場合は交差エントロピーとして\n",
    "\n",
    "$$E=-\\dfrac{1}{N}\\sum_{n=1}^N \\left[t_n \\ln y_n + (1-t_n) \\ln (1-y_n) \\right]$$\n",
    "\n",
    "を使用し、多クラス分類（Kクラス）の場合は多クラス交差エントロピーとして\n",
    "\n",
    "$$E=-\\dfrac{1}{N}\\sum_{n=1}^N \\sum_{k=1}^K t_{nk} \\ln y_{nk}$$\n",
    "\n",
    "を用います。それぞれcompile関数の引数として`loss='binary_crossentropy'`、`loss='categorical_crossentropy'`を指定することで使用できます。\n",
    "    \n",
    "\n",
    "今回利用したMNISTは0~9の離散値であるため、以下のように多クラス交差エントロピーを利用しています。\n",
    "\n",
    "```py\n",
    "model.compile(loss='categorical_crossentropy',\n",
    "              optimizer='sgd',\n",
    "              metrics=['accuracy'])\n",
    "```\n",
    " "
   ]
  },
  {
   "cell_type": "markdown",
   "metadata": {},
   "source": [
    "### 1.4 評価関数"
   ]
  },
  {
   "cell_type": "markdown",
   "metadata": {},
   "source": [
    "評価関数(metric)はモデルの出力の良し悪しを評価します。\n",
    "\n",
    "損失関数もモデルの良し悪しの指標となるという点では同じですが、損失関数は最適化計算をとおして学習に直接的に影響するのに対して、評価関数は学習には使用されず、あくまでその時点でのモデルの評価指標を出力するのみであるという違いがあります。\n",
    "\n",
    "つまり、compile関数で指定すると、訓練やテストの際に参考情報として評価関数の値が返り値として受け取れるというだけです。\n",
    "\n",
    "評価関数として使用することが多いのは**accuracy(正解率)**です。（正解率＝全体のデータに対して予測値が答えと一致した割合）\n",
    "\n",
    "これはcompile関数の引数として、`metrics=['acc']`を指定することで使用できます。（リストに他の損失関数を含めれば、それらも同時に評価されます）\n",
    "\n",
    "https://keras.io/ja/metrics/"
   ]
  },
  {
   "cell_type": "markdown",
   "metadata": {},
   "source": [
    "### 1.5 Functional API"
   ]
  },
  {
   "cell_type": "markdown",
   "metadata": {},
   "source": [
    "ここまではkeras.models.Sequentialクラスを用いたモデル構築を説明しました。\n",
    "\n",
    "Sequentialクラスを用いる場合はadd関数を使用して簡単にモデルを構築できますが、途中に分岐や合流があるような複雑なモデルは作成できません。\n",
    "\n",
    "こうしたより複雑なモデルの構築には別の方法が用意されています。それが**Functional API**です。この特徴は\n",
    "\n",
    "* **Inputレイヤー**から構築を始める\n",
    "* 各レイヤーの返り値（テンソル）を次のレイヤーの入力として順々に構築していく\n",
    "* **keras.models.Modelクラス**に入力と出力を指定することでインスタンス化\n",
    "\n",
    "という点です。一度Modelクラスのインスタンスを作ってしまえば、後の学習等はSequentialクラスによる場合と同様です。\n",
    "\n",
    "より詳しくは、実際にFunctional APIが必須になる第4回で扱いますが、すぐにFunctional APIの発展的な利用法をみたいという方は、\n",
    "\n",
    "下記の公式HPのリンクにいくつか記載がありますので参考にしてみてください。\n",
    "\n",
    "https://keras.io/ja/getting-started/functional-api-guide/\n",
    "\n",
    "https://keras.io/ja/models/model/"
   ]
  },
  {
   "cell_type": "markdown",
   "metadata": {},
   "source": [
    "### 1.6 確認問題"
   ]
  },
  {
   "cell_type": "markdown",
   "metadata": {},
   "source": [
    "1. 学習データ以外の未知のデータに対するモデルの予測性能を何というか  \n",
    "  ①神通力　②バイアス　③汎化性能　④共起性\n",
    "2. データセット全体を一度に全て使用して学習する方法を何というか  \n",
    "  ①転移学習　②ワンショット学習　③過学習　④バッチ学習　\n",
    "3. 名義尺度のデータをバイナリベクトルによって表現したものを何というか  \n",
    "  ①分散表現　②one-hot表現　③ビット表現　④ユニタリ表現\n",
    "4. モデルの学習に当たって最小化するものは何か  \n",
    "  ①精度　②損失関数　③スコア　④F値"
   ]
  },
  {
   "cell_type": "code",
   "execution_count": null,
   "metadata": {},
   "outputs": [],
   "source": []
  }
 ],
 "metadata": {
  "kernelspec": {
   "display_name": "Python 3",
   "language": "python",
   "name": "python3"
  },
  "language_info": {
   "codemirror_mode": {
    "name": "ipython",
    "version": 3
   },
   "file_extension": ".py",
   "mimetype": "text/x-python",
   "name": "python",
   "nbconvert_exporter": "python",
   "pygments_lexer": "ipython3",
   "version": "3.6.0"
  }
 },
 "nbformat": 4,
 "nbformat_minor": 1
}
