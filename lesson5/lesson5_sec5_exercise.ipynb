{
 "cells": [
  {
   "cell_type": "markdown",
   "metadata": {},
   "source": [
    "# Lesson5 画像からキャプションを生成してみよう"
   ]
  },
  {
   "cell_type": "markdown",
   "metadata": {},
   "source": [
    "## 目次\n",
    "- Section 5 ケーススタディ"
   ]
  },
  {
   "cell_type": "markdown",
   "metadata": {},
   "source": [
    "## ケーススタディ"
   ]
  },
  {
   "cell_type": "markdown",
   "metadata": {},
   "source": [
    "#### 言語と画像の融合"
   ]
  },
  {
   "cell_type": "markdown",
   "metadata": {},
   "source": [
    "ここでは画像と言語両方を扱った研究に関する論文を紹介します。"
   ]
  },
  {
   "cell_type": "markdown",
   "metadata": {},
   "source": [
    "言語及び画像をニューラルネットワークという統一言語で表せることができるようになったため、両分野を融合した研究が多く発表されています。"
   ]
  },
  {
   "cell_type": "markdown",
   "metadata": {},
   "source": [
    "本Lessonでは画像->言語 (Caption) の問題を扱いましたが、次の研究では逆に言語 (Caption) から画像を生成することを試みています。\n",
    "\n",
    "<img src=\"./figures/mansimov_iclr_2016.png\" width=\"500\">\n",
    "\n",
    "出典: E. Mansimov et al. Generating Images from Captions with Attention. ICLR 2016"
   ]
  },
  {
   "cell_type": "markdown",
   "metadata": {},
   "source": [
    "また、次の研究では機械翻訳において画像を追加情報として入力することで精度の向上を達成しています。\n",
    "\n",
    "<img src=\"./figures/toyama_arxiv_2016.png\" width=\"500mm\">\n",
    "\n",
    "出典: J. Toyama et al. Neural Machine Translation with Latent Semantic of Image and Text. arxiv. 2016"
   ]
  }
 ],
 "metadata": {
  "kernelspec": {
   "display_name": "Python 3",
   "language": "python",
   "name": "python3"
  },
  "language_info": {
   "codemirror_mode": {
    "name": "ipython",
    "version": 3
   },
   "file_extension": ".py",
   "mimetype": "text/x-python",
   "name": "python",
   "nbconvert_exporter": "python",
   "pygments_lexer": "ipython3",
   "version": "3.6.8"
  }
 },
 "nbformat": 4,
 "nbformat_minor": 2
}
