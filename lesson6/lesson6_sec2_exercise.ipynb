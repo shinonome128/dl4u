{
 "cells": [
  {
   "cell_type": "markdown",
   "metadata": {},
   "source": [
    "# Lesson6 ニューラルネットに画像を生成させよう\n",
    "\n",
    "## 目次\n",
    "\n",
    "- Section1 Checkクイズの解答\n",
    "- Section2 実装①\n",
    "  - 2.1 FashionMNISTを用いたGAN\n",
    "\n",
    "## Section1 Checkクイズの解答\n",
    "問題1: 2, 問題2: 3"
   ]
  },
  {
   "cell_type": "code",
   "execution_count": null,
   "metadata": {
    "collapsed": true
   },
   "outputs": [],
   "source": [
    "# MNISTのロードと表示のための関数です。後で使うので読み込んでおいて下さい。\n",
    "from tensorflow.keras.datasets import mnist\n",
    "from tensorflow.keras.datasets import fashion_mnist\n",
    "import numpy as np\n",
    "import matplotlib.pyplot as plt\n",
    "%matplotlib inline\n",
    "\n",
    "def load_mnist(dim=3, data='mnist'):\n",
    "    img_rows, img_cols = 28, 28\n",
    "    \n",
    "    if data == 'mnist':\n",
    "        (x_train, y_train), (x_test, y_test) = mnist.load_data()\n",
    "    else:\n",
    "        (x_train, y_train), (x_test, y_test) = fashion_mnist.load_data()\n",
    "    \n",
    "    if dim == 3:\n",
    "        x_train = x_train.reshape(x_train.shape[0], img_rows, img_cols, 1)\n",
    "        x_test = x_test.reshape(x_test.shape[0], img_rows, img_cols, 1)\n",
    "    else:\n",
    "        x_train = x_train.reshape(x_train.shape[0], img_rows*img_cols)\n",
    "        x_test = x_test.reshape(x_test.shape[0], img_rows*img_cols)\n",
    "        \n",
    "    x_train = x_train.astype('float32') / 255\n",
    "    x_test = x_test.astype('float32') / 255\n",
    "    y_train = np.eye(10)[y_train]\n",
    "    y_test = np.eye(10)[y_test]\n",
    "    \n",
    "    return  x_train, x_test, y_train, y_test\n",
    "\n",
    "\n",
    "def plot_mnist(n_ex=10,dim=(2,5), figsize=(8,4)):\n",
    "    noise = np.random.uniform(0,1,size=[n_ex,100])\n",
    "    generated_images = generator.predict(noise)\n",
    "\n",
    "    plt.figure(figsize=figsize)\n",
    "    for i in range(generated_images.shape[0]):\n",
    "        plt.subplot(dim[0],dim[1],i+1)\n",
    "        img = generated_images[i,:,:, 0]\n",
    "        plt.imshow(img, cmap='binary')\n",
    "        plt.axis('off')\n",
    "    plt.tight_layout()\n",
    "    plt.show()"
   ]
  },
  {
   "cell_type": "markdown",
   "metadata": {},
   "source": [
    "## Section2 実装①"
   ]
  },
  {
   "cell_type": "markdown",
   "metadata": {},
   "source": [
    "### 2.1 FashionMNISTを用いたGAN"
   ]
  },
  {
   "cell_type": "markdown",
   "metadata": {},
   "source": [
    "このSectionでは、Section1で行ったGANによる学習をFashionMNISTの画像にも適用させて、ニューラルネットにファッション画像が生成出来るように学習させてみましょう。"
   ]
  },
  {
   "cell_type": "markdown",
   "metadata": {},
   "source": [
    "### 2.1.1 GANのモデルの作成"
   ]
  },
  {
   "cell_type": "code",
   "execution_count": null,
   "metadata": {
    "collapsed": true
   },
   "outputs": [],
   "source": [
    "from tensorflow.keras.layers import Input, Reshape, Dense, Dropout, Flatten, Activation, LeakyReLU, Conv2D, UpSampling2D, BatchNormalization\n",
    "from tensorflow.keras.optimizers import Adam\n",
    "from tensorflow.keras.models import Model\n",
    "from tqdm import tqdm\n",
    "\n",
    "def Generator():\n",
    "    nch=200\n",
    "    model_input = Input(shape=[100])\n",
    "    x = Dense(nch*14*14, kernel_initializer='glorot_normal')(model_input)\n",
    "    x = BatchNormalization()(x)\n",
    "    x = Activation('relu')(x)\n",
    "    x = Reshape( [14, 14, nch] )(x)\n",
    "    x = UpSampling2D(size=(2, 2))(x)\n",
    "    x = Conv2D(int(nch/2), (3, 3), padding='same', kernel_initializer='glorot_uniform')(x)\n",
    "    x = BatchNormalization()(x)\n",
    "    x = Activation('relu')(x)\n",
    "    x = Conv2D(int(nch/4), (3, 3), padding='same', kernel_initializer='glorot_uniform')(x)\n",
    "    x = BatchNormalization()(x)\n",
    "    x = Activation('relu')(x)\n",
    "    x = Conv2D(1, (1, 1), padding='same', kernel_initializer='glorot_uniform')(x)\n",
    "    model_output = Activation('sigmoid')(x)\n",
    "    model = Model(model_input, model_output)\n",
    "    \n",
    "    return model\n",
    "\n",
    "\n",
    "def Discriminator(shape, dropout_rate=0.25, opt=Adam(lr=1e-4)):\n",
    "    model_input = Input(shape=shape)\n",
    "    x = Conv2D(256, (5, 5), padding = 'same', kernel_initializer='glorot_uniform', strides=(2, 2))(model_input)\n",
    "    x = LeakyReLU(0.2)(x)\n",
    "    x = Dropout(dropout_rate)(x)\n",
    "    x = Conv2D(512, (5, 5), padding = 'same', kernel_initializer='glorot_uniform', strides=(2, 2))(x)\n",
    "    x = LeakyReLU(0.2)(x)\n",
    "    x = Dropout(dropout_rate)(x)\n",
    "    x = Flatten()(x)\n",
    "    x = Dense(256)(x)\n",
    "    x = LeakyReLU(0.2)(x)\n",
    "    x = Dropout(dropout_rate)(x)\n",
    "    model_output = Dense(2,activation='softmax')(x)\n",
    "    model = Model(model_input, model_output)\n",
    "    model.compile(loss='categorical_crossentropy', optimizer=opt)\n",
    "    \n",
    "    return model\n",
    "\n",
    "\n",
    "def combined_network(generator, discriminator, opt=Adam(lr=1e-3)):\n",
    "    gan_input = Input(shape=[100])\n",
    "    x = generator(gan_input)\n",
    "    gan_output = discriminator(x)\n",
    "    model = Model(gan_input, gan_output)\n",
    "    model.compile(loss='categorical_crossentropy', optimizer=opt)\n",
    "    \n",
    "    return model\n",
    "\n",
    "\n",
    "def make_trainable(net, val):\n",
    "    net.trainable = val\n",
    "    for l in net.layers:\n",
    "        l.trainable = val\n",
    "\n",
    "        \n",
    "def train(step=10000, BATCH_SIZE=128):\n",
    "    for e in tqdm(range(step)):  \n",
    "        image_batch = X_train[np.random.randint(0,X_train.shape[0],size=BATCH_SIZE),:,:,:]    \n",
    "        noise_gen = np.random.uniform(0,1,size=[BATCH_SIZE,100])\n",
    "        generated_images = generator.predict(noise_gen)\n",
    "        \n",
    "        make_trainable(discriminator,True)\n",
    "        \n",
    "        X = np.concatenate((image_batch, generated_images))\n",
    "        y = np.zeros([2*BATCH_SIZE,2])\n",
    "        y[:BATCH_SIZE,1] = 1\n",
    "        y[BATCH_SIZE:,0] = 1\n",
    "        \n",
    "        discriminator.train_on_batch(X,y)\n",
    "        \n",
    "        make_trainable(discriminator,False)\n",
    "    \n",
    "        noise_gen = np.random.uniform(0,1,size=[BATCH_SIZE,100])\n",
    "        y2 = np.zeros([BATCH_SIZE,2])\n",
    "        y2[:,1] = 1\n",
    "             \n",
    "        GAN.train_on_batch(noise_gen, y2 )"
   ]
  },
  {
   "cell_type": "markdown",
   "metadata": {},
   "source": [
    "### 2.1.2 FashionMNISTによる学習"
   ]
  },
  {
   "cell_type": "code",
   "execution_count": null,
   "metadata": {
    "collapsed": true
   },
   "outputs": [],
   "source": [
    "X_train, _,_,_ = load_mnist(data='fashion')\n",
    "generator = Generator()\n",
    "discriminator = Discriminator(X_train.shape[1:])\n",
    "make_trainable(discriminator, False)\n",
    "GAN = combined_network(generator, discriminator)\n",
    "\n",
    "train()"
   ]
  },
  {
   "cell_type": "markdown",
   "metadata": {},
   "source": [
    "### 2.1.3 画像の生成"
   ]
  },
  {
   "cell_type": "code",
   "execution_count": null,
   "metadata": {
    "collapsed": true
   },
   "outputs": [],
   "source": [
    "plot_mnist()"
   ]
  },
  {
   "cell_type": "markdown",
   "metadata": {},
   "source": [
    "## Check実装"
   ]
  },
  {
   "cell_type": "markdown",
   "metadata": {},
   "source": [
    "- 課題\n",
    "    - 学習のステップの応じて生成される画像がどのように変わっていくか確かめてみましょう"
   ]
  }
 ],
 "metadata": {
  "kernelspec": {
   "display_name": "Python 3",
   "language": "python",
   "name": "python3"
  },
  "language_info": {
   "codemirror_mode": {
    "name": "ipython",
    "version": 3
   },
   "file_extension": ".py",
   "mimetype": "text/x-python",
   "name": "python",
   "nbconvert_exporter": "python",
   "pygments_lexer": "ipython3",
   "version": "3.6.4"
  }
 },
 "nbformat": 4,
 "nbformat_minor": 1
}
