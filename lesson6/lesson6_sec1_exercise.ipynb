{
 "cells": [
  {
   "cell_type": "markdown",
   "metadata": {},
   "source": [
    "# Lesson6 ニューラルネットに画像を生成させよう"
   ]
  },
  {
   "cell_type": "markdown",
   "metadata": {},
   "source": [
    "## 目次\n",
    "\n",
    "- Section1 解説\n",
    "  - 1.1 深層生成モデル\n",
    "  - 1.2 GAN\n",
    "- Section2 実装①\n",
    "  - 2.1 FashionMNISTを用いたGAN\n",
    "- Section3 テクニック・発展的内容\n",
    "  - 3.1 Conditional GAN\n",
    "- Section4　実装②\n",
    "  - 4.1 FashionMNISTを用いたConditional GAN\n",
    "- Section5 参考\n",
    "  - 5.1 VAE\n",
    "- Section6 ケーススタディ"
   ]
  },
  {
   "cell_type": "code",
   "execution_count": null,
   "metadata": {},
   "outputs": [],
   "source": [
    "# MNISTのロードと表示のための関数です。後で使うので読み込んでおいて下さい。\n",
    "from tensorflow.keras.datasets import mnist\n",
    "from tensorflow.keras.datasets import fashion_mnist\n",
    "import numpy as np\n",
    "import matplotlib.pyplot as plt\n",
    "%matplotlib inline\n",
    "\n",
    "def load_mnist(dim=3, data='mnist'):\n",
    "    img_rows, img_cols = 28, 28\n",
    "    \n",
    "    if data == 'mnist':\n",
    "        (x_train, y_train), (x_test, y_test) = mnist.load_data()\n",
    "    else:\n",
    "        (x_train, y_train), (x_test, y_test) = fashion_mnist.load_data()\n",
    "    \n",
    "    if dim == 3:\n",
    "        x_train = x_train.reshape(x_train.shape[0], img_rows, img_cols, 1)\n",
    "        x_test = x_test.reshape(x_test.shape[0], img_rows, img_cols, 1)\n",
    "    else:\n",
    "        x_train = x_train.reshape(x_train.shape[0], img_rows*img_cols)\n",
    "        x_test = x_test.reshape(x_test.shape[0], img_rows*img_cols)\n",
    "        \n",
    "    x_train = x_train.astype('float32') / 255\n",
    "    x_test = x_test.astype('float32') / 255\n",
    "    y_train = np.eye(10)[y_train]\n",
    "    y_test = np.eye(10)[y_test]\n",
    "    \n",
    "    return  x_train, x_test, y_train, y_test\n",
    "\n",
    "def plot_mnist(n_ex=10,dim=(2,5), figsize=(8,4)):\n",
    "    noise = np.random.uniform(0,1,size=[n_ex,100])\n",
    "    generated_images = generator.predict(noise)\n",
    "\n",
    "    plt.figure(figsize=figsize)\n",
    "    for i in range(generated_images.shape[0]):\n",
    "        plt.subplot(dim[0],dim[1],i+1)\n",
    "        img = generated_images[i,:,:, 0]\n",
    "        plt.imshow(img, cmap='binary')\n",
    "        plt.axis('off')\n",
    "    plt.tight_layout()\n",
    "    plt.show()"
   ]
  },
  {
   "cell_type": "markdown",
   "metadata": {},
   "source": [
    "## Section1 解説"
   ]
  },
  {
   "cell_type": "markdown",
   "metadata": {},
   "source": [
    "### 1.1 深層生成モデル"
   ]
  },
  {
   "cell_type": "markdown",
   "metadata": {},
   "source": [
    "この回では**深層生成モデル**を使って画像を生成します。\n",
    "\n",
    "生成モデルとは「データセットを生成する確率分布をモデル化するアプローチ」で、深層生成モデルとは「その確率分布を深層ニューラルネットワークでモデル化するアプローチ」になります。今回は深層生成モデルの中でも代表的な**Generative Adversarial Network (GAN)**と呼ばれるモデルを使って画像を生成してみます。\n",
    "\n",
    "生成モデルを用いると、データセットが持つ抽象的な表現をモデル化しそのデータセットにありそうなデータを生成することが出来ます。\n",
    "言葉を変えると、データセットを生成する確率分布を学習することになります。\n",
    "\n",
    "例えば、MNISTの手書き文字のデータセットの特徴、つまり「手書きの数字」の特徴を捉え、似たような画像を生成することが出来ます。"
   ]
  },
  {
   "cell_type": "markdown",
   "metadata": {},
   "source": [
    "さて、生成モデルの利用方法として「サンプリング」、「密度推定」、「欠損値補完」などがあります。\n",
    "\n",
    "- サンプリング: 確率モデルを利用して未知のデータを生成出来る。\n",
    "- 密度推定: 外れ値検知や異常検知などに用いられる。\n",
    "- 欠損値補完: 欠損のあるデータを入力して真のデータの推定値が得られる。\n",
    "\n",
    "などが考えられます。特にサンプリングで未知のデータを生成することから「生成モデル」と呼ばれています。\n",
    "\n",
    "\n",
    "なお、今回は画像の生成を扱いますが、生成モデル自体は画像の生成に限定されるものではありません。\n",
    "\n",
    "それではまずはニューラルネットがMNISTの手書き文字を生成できるように学習させてみましょう。"
   ]
  },
  {
   "cell_type": "markdown",
   "metadata": {},
   "source": [
    "### 1.2 GAN"
   ]
  },
  {
   "cell_type": "markdown",
   "metadata": {},
   "source": [
    "### 1.2.1 GANの概要"
   ]
  },
  {
   "cell_type": "markdown",
   "metadata": {},
   "source": [
    "GANではGeneratorとDiscriminatorと呼ばれる2つのネットワークが登場します。\n",
    "\n",
    "Generatorはデータセットと同じような画像を生成しようとします。\n",
    "一方、Discriminatorは入力画像がデータセットの中にある本物の画像かGeneratorが生成した偽物の画像かどうかを判定します。\n",
    "\n",
    "GeneratorはよりDiscriminatorを騙すことの出来る本物に近いデータを生成しようと学習し、Discriminatoは真偽を見分けることが出来るように学習します。\n",
    "この両ネットワークの相乗効果によってGeneratorにはデータセットにある画像と似ている画像が生成されることが期待されます。\n",
    "\n",
    "GANは比較的くっきりとした画像が生成されることが特徴にありますが、学習が不安定なところが短所になります。"
   ]
  },
  {
   "cell_type": "markdown",
   "metadata": {},
   "source": [
    "<img src='figures/gan1.png' alt='gan_1'>"
   ]
  },
  {
   "cell_type": "markdown",
   "metadata": {},
   "source": [
    "次に具体的にどのように学習を進めていくかを数式を交えて説明します。\n",
    "\n",
    "以下の式を見て下さい。 \n",
    "\n",
    "$\\underset{G}{\\min}\\underset{D}{\\max}V(D, G) = E_{x{\\sim}p_{data}(x)}[\\log D(x)] +E_{z{\\sim}p_{data}(z)}[\\log(1-D(G(z)))]$ \n",
    "([Generative Adversarial Networks](https://arxiv.org/abs/1406.2661))\n",
    "\n",
    "Discriminatorの出力の$D(x)$ は入力画像が訓練データのものであるかどうかの予測確率を表しています。Discriminatorは $D(x)$を最大化、また$G(z)$　は生成されたデータなので $1-D(G(z)))$ の最大化を行います。Generatorは逆に最小化を行います。そのため、Generatorの学習が進むと、Discriminatorは正しく判定しにくくなります。\n",
    "\n",
    "\n",
    "つまり、\n",
    "\n",
    "1. Generatorは、学習においてDiscrimnatorの学習とは独立に $V(D, G)$ を最小化するように学習します。\n",
    "2. Discriminatorは、学習においてGeneratorの学習とは独立に $V(D, G)$ を最大化するように学習します。\n",
    "\n",
    "\n",
    "学習を交互に行うことで両者の学習を進めていくことになります。\n",
    "\n",
    "なお、GANの収束性については現在も研究が進められていますが、依然として学習が不安定なので、ネットワークを設計する際は、論文のネットワークの形をそのまま利用したり、実際の実装コードを参考にしたりすると良いです。\n",
    "\n",
    "それでは具体的な実装をみていきましょう。"
   ]
  },
  {
   "cell_type": "markdown",
   "metadata": {},
   "source": [
    "### 1.2.2 Generator"
   ]
  },
  {
   "cell_type": "markdown",
   "metadata": {},
   "source": [
    "まず、Generatorのネットワークを構築します。\n",
    "\n",
    "Generatorではランダムに生成したノイズからデータセットにあるような本物っぽい画像を生成することが目的です。\n",
    "つまり、出力した画像に対してDiscriminatorが本物と勘違いするように学習します。\n",
    "\n",
    "ここでは要素の100のノイズを入力として、サイズ28x28でチャンネル1の画像を出力にしています。"
   ]
  },
  {
   "cell_type": "markdown",
   "metadata": {},
   "source": [
    "Generatorの中には `UpSampling2D` というレイヤーが登場するのですが、通常の畳込みの逆演算として使用しています。つまり入力のwidth及びheightを増加させるように作用します。"
   ]
  },
  {
   "cell_type": "code",
   "execution_count": null,
   "metadata": {},
   "outputs": [],
   "source": [
    "from tensorflow.keras.layers import Input, Reshape, Dense, Flatten, Activation, Conv2D, UpSampling2D, BatchNormalization\n",
    "from tensorflow.keras.models import Model\n",
    "\n",
    "def Generator():\n",
    "    nch = 200\n",
    "    model_input = Input(shape=[100])\n",
    "    x = Dense(nch*14*14, kernel_initializer='glorot_normal')(model_input) # 100 -> 200*14*14\n",
    "    x = BatchNormalization()(x)\n",
    "    x = Activation('relu')(x)\n",
    "    x = Reshape( [14, 14, nch] )(x) # 200*14*14 -> 14x14x200 (width)x(height)x(channel)\n",
    "    x = UpSampling2D(size=(2, 2))(x) # 14x14x200 -> 28x28x200\n",
    "    x = Conv2D(int(nch/2), (3, 3), padding='same', kernel_initializer='glorot_uniform')(x) # 28x28x200 -> 28x28x100\n",
    "    x = BatchNormalization()(x)\n",
    "    x = Activation('relu')(x)\n",
    "    x = Conv2D(int(nch/4), (3, 3), padding='same', kernel_initializer='glorot_uniform')(x) # 28x28x100 -> 28x28x50\n",
    "    x = BatchNormalization()(x)\n",
    "    x = Activation('relu')(x)\n",
    "    x = Conv2D(1, (1, 1), padding='same', kernel_initializer='glorot_uniform')(x) # 28x28x50 -> 28x28x1\n",
    "    model_output = Activation('sigmoid')(x)\n",
    "    model = Model(model_input, model_output)\n",
    "    # model.summary()\n",
    "    \n",
    "    return model"
   ]
  },
  {
   "cell_type": "markdown",
   "metadata": {},
   "source": [
    "### 1.2.3 Discriminator"
   ]
  },
  {
   "cell_type": "markdown",
   "metadata": {},
   "source": [
    "次にDiscriminatorのネットワークを構築します。\n",
    "\n",
    "データセットの画像が入力されれば本物であると、Generatorによって出力されたデータであれば偽物であると判定するように学習させます。\n",
    "\n",
    "入力としてはサイズ28x28でチャンネル1の画像を入力にして、その画像がデータセットにある本物データかどうかを2値で出力します。\n",
    "\n",
    "なお、[Unsupervised Representation Learning with Deep Convolutional Generative Adversarial Networks](https://arxiv.org/abs/1511.06434) にてDiscriminatorのActivationとしてはLeakyReLUを利用するとよい結果が出ることが言及されているのでこれを使用します。(LeakyReLUとはReLUの負の領域に対しても微小な勾配を可能にするReLUの特別版です。)"
   ]
  },
  {
   "cell_type": "code",
   "execution_count": null,
   "metadata": {},
   "outputs": [],
   "source": [
    "from tensorflow.keras.layers import Input, Reshape, Dense, Dropout, Flatten, LeakyReLU, Conv2D, BatchNormalization\n",
    "from tensorflow.keras.optimizers import Adam\n",
    "from tensorflow.keras.models import Model\n",
    "\n",
    "def Discriminator(shape, dropout_rate=0.25, opt=Adam(lr=1e-4)):\n",
    "    model_input = Input(shape=shape) # 28x28x1\n",
    "    x = Conv2D(256, (5, 5), padding = 'same', kernel_initializer='glorot_uniform', strides=(2, 2))(model_input) # 28x28x1 -> 14x14x256\n",
    "    x = LeakyReLU(0.2)(x)\n",
    "    x = Dropout(dropout_rate)(x)\n",
    "    x = Conv2D(512, (5, 5), padding = 'same', kernel_initializer='glorot_uniform', strides=(2, 2))(x) # 14x14x256 -> 7x7x512\n",
    "    x = LeakyReLU(0.2)(x)\n",
    "    x = Dropout(dropout_rate)(x)\n",
    "    x = Flatten()(x) # 7x7x512 -> 7*7*512\n",
    "    x = Dense(256)(x) # 7*7*512 -> 256\n",
    "    x = LeakyReLU(0.2)(x)\n",
    "    x = Dropout(dropout_rate)(x)\n",
    "    model_output = Dense(2,activation='softmax')(x) # 256 -> 2\n",
    "    model = Model(model_input, model_output)\n",
    "    model.compile(loss='categorical_crossentropy', optimizer=opt)\n",
    "    # model.summary()\n",
    "    \n",
    "    return model"
   ]
  },
  {
   "cell_type": "markdown",
   "metadata": {},
   "source": [
    "### 1.2.4 GANの学習"
   ]
  },
  {
   "cell_type": "markdown",
   "metadata": {},
   "source": [
    "combined_networkの関数はGeneratorの学習時に使用します。Generatorの学習ではDiscriminatorの出力を目的関数とするのでGeneratorとDiscriminatorを繋げたネットワークで学習する必要があります。"
   ]
  },
  {
   "cell_type": "code",
   "execution_count": null,
   "metadata": {},
   "outputs": [],
   "source": [
    "from tensorflow.keras.layers import Input\n",
    "from tensorflow.keras.models import Model\n",
    "\n",
    "def combined_network(generator, discriminator, opt=Adam(lr=1e-3)):\n",
    "    gan_input = Input(shape=[100])\n",
    "    x = generator(gan_input)\n",
    "    gan_output = discriminator(x)\n",
    "    model = Model(gan_input, gan_output)\n",
    "    model.compile(loss='categorical_crossentropy', optimizer=opt)\n",
    "    # model.summary()\n",
    "    \n",
    "    return model"
   ]
  },
  {
   "cell_type": "markdown",
   "metadata": {},
   "source": [
    "次に、モデルを学習を制御する関数のmake_trainableを定義します。\n",
    "\n",
    "GeneratorとDiscriminatorはそれぞれ独立に学習をするため、combined_networkでGeneratorの学習を目的とする場合、\n",
    "Discriminatorが一緒に学習しないようにする必要があります。\n",
    "そのときに利用するのがこの関数です。\n",
    "\n",
    "Discriminatorの各Layerのtrainableというメソッドの値をすべてFalseにすることができ、パラメータを更新しないようにすることが出来ます。\n",
    "この後のtrain関数内で利用します。"
   ]
  },
  {
   "cell_type": "code",
   "execution_count": null,
   "metadata": {},
   "outputs": [],
   "source": [
    "def make_trainable(net, val):\n",
    "    net.trainable = val\n",
    "    for l in net.layers:\n",
    "        l.trainable = val"
   ]
  },
  {
   "cell_type": "markdown",
   "metadata": {},
   "source": [
    "以下のtrain関数で実際に学習を進めていきます。\n",
    "\n",
    "train関数内では以下のような学習を各バッチごとに行います。\n",
    "\n",
    "1. バッチの学習で利用する画像の選択\n",
    "2. Discriminatorの学習をonに切り替える\n",
    "3. Generatorによる生成画像を用いてDiscriminatorの学習\n",
    "4. Discriminatorの学習をoffに切り替える\n",
    "5. Generatorの学習"
   ]
  },
  {
   "cell_type": "code",
   "execution_count": null,
   "metadata": {},
   "outputs": [],
   "source": [
    "from tqdm import tqdm\n",
    "\n",
    "def train(step=3000, BATCH_SIZE=128):\n",
    "    for e in tqdm(range(step)):\n",
    "        # 1. バッチの学習で利用する画像の選択 \n",
    "        # バッチサイズの分だけランダムに画像を選択\n",
    "        image_batch = X_train[np.random.randint(0,X_train.shape[0],size=BATCH_SIZE),:,:,:]\n",
    "        \n",
    "        # バッチサイズの分だけランダムにノイズを生成し、generatorにより画像を生成\n",
    "        noise_gen = np.random.uniform(0,1,size=[BATCH_SIZE,100])\n",
    "        generated_images = generator.predict(noise_gen)\n",
    "        \n",
    "        # 2. Discriminatorの学習をonに切り替える\n",
    "        # Discriminatorが学習するように変更\n",
    "        make_trainable(discriminator,True)\n",
    "        \n",
    "        # 3. Generatorによる生成画像を用いてDiscriminatorの学習\n",
    "        # X = (バッチサイズ分のデータセットの画像, バッチサイズ分の生成画像)\n",
    "        X = np.concatenate((image_batch, generated_images))\n",
    "        \n",
    "        # y = (バッチサイズ分のTrue(本物), バッチサイズ分のFalse(偽物))\n",
    "        y = np.zeros([2*BATCH_SIZE,2])\n",
    "        y[:BATCH_SIZE,1] = 1\n",
    "        y[BATCH_SIZE:,0] = 1      \n",
    "        \n",
    "        # Discriminatorのtrain\n",
    "        discriminator.train_on_batch(X,y)\n",
    "        \n",
    "        # 4. Discriminatorの学習をoffに切り替える\n",
    "        # Discriminatorが学習しないように変更\n",
    "        make_trainable(discriminator,False)\n",
    "    \n",
    "        # 5. Generatorの学習\n",
    "        # バッチサイズの分だけランダムにノイズを生成\n",
    "        noise_gen = np.random.uniform(0,1,size=[BATCH_SIZE,100])\n",
    "        \n",
    "        # y = (バッチサイズ分のTrue(本物))\n",
    "        # 実際には生成した画像なのでDiscriminatorとしては偽物と判断すべきだが、Genaratorの学習なので生成した画像を本物と判断するように学習させる\n",
    "        y2 = np.zeros([BATCH_SIZE,2])\n",
    "        y2[:,1] = 1\n",
    "        \n",
    "        # Generatorのtrain\n",
    "        GAN.train_on_batch(noise_gen, y2 )"
   ]
  },
  {
   "cell_type": "markdown",
   "metadata": {},
   "source": [
    "### 1.2.5 MNISTによる学習"
   ]
  },
  {
   "cell_type": "code",
   "execution_count": null,
   "metadata": {},
   "outputs": [],
   "source": [
    "# データのロード\n",
    "X_train, _,_,_ = load_mnist()\n",
    "# それぞれのネットワークのインスタンスを生成\n",
    "generator = Generator()\n",
    "discriminator = Discriminator(X_train.shape[1:])\n",
    "make_trainable(discriminator, False)\n",
    "GAN = combined_network(generator, discriminator)"
   ]
  },
  {
   "cell_type": "code",
   "execution_count": null,
   "metadata": {},
   "outputs": [],
   "source": [
    "# train関数で学習を行うstepを大きくすると学習をより多く行います\n",
    "train()"
   ]
  },
  {
   "cell_type": "markdown",
   "metadata": {},
   "source": [
    "### 1.2.6 手書き文字の生成"
   ]
  },
  {
   "cell_type": "markdown",
   "metadata": {},
   "source": [
    "学習が出来たら、実際にランダムのノイズから手書き文字のような画像が出力されるか表示して確認してみましょう。"
   ]
  },
  {
   "cell_type": "code",
   "execution_count": null,
   "metadata": {},
   "outputs": [],
   "source": [
    "plot_mnist()"
   ]
  },
  {
   "cell_type": "markdown",
   "metadata": {},
   "source": [
    "## Checkクイズ"
   ]
  },
  {
   "cell_type": "markdown",
   "metadata": {},
   "source": [
    "- 問題1\n",
    "    - GANに関して、次の選択肢から最も適切なものを一つ選びなさい\n",
    "- 選択肢\n",
    "    1. Generatorはデータセットと同じような画像を生成する。DiscriminatorはGeneratorで生成した画像を精錬した画像を出力する。\n",
    "    2. Generatorはデータセットと同じような画像を生成する。Discriminatorは入力画像がデータセットの中にある本物の画像かGeneratorが生成した偽物の画像かどうかを判定する。\n",
    "    3. Discriminatorはデータセットと同じような画像を生成する。GeneratorはGeneratorで生成した画像を精錬した画像を出力する。\n",
    "    4. Discriminatorはデータセットと同じような画像を生成する。Generatorは入力画像がデータセットの中にある本物の画像かDiscriminatorが生成した偽物の画像かどうかを判定する。"
   ]
  },
  {
   "cell_type": "markdown",
   "metadata": {},
   "source": [
    "- 問題2\n",
    "    - GANとして最も適切なものを一つ選びなさい\n",
    "- 選択肢\n",
    "    1. $\\underset{G}{\\min}\\underset{D}{\\max}V(D, G) = E_{x{\\sim}p_{data}(x)}[\\log D(x)] +E_{z{\\sim}p_{data}(z)}[\\log(D(G(z)))]$ \n",
    "    2. $\\underset{G}{\\min}\\underset{D}{\\max}V(D, G) = E_{x{\\sim}p_{data}(x)}[\\log D(x)] +E_{x{\\sim}p_{data}(x)}[\\log G(x)]$ \n",
    "    3. $\\underset{G}{\\min}\\underset{D}{\\max}V(D, G) = E_{x{\\sim}p_{data}(x)}[\\log D(x)] +E_{z{\\sim}p_{data}(z)}[\\log(1-D(G(z)))]$ \n",
    "    4. $\\underset{G}{\\min}\\underset{D}{\\max}V(D, G) = E_{x{\\sim}p_{data}(x)}[\\log D(x)] +E_{x{\\sim}p_{data}(x)}[\\log(1-D(G(x)))]$ "
   ]
  },
  {
   "cell_type": "code",
   "execution_count": null,
   "metadata": {},
   "outputs": [],
   "source": []
  }
 ],
 "metadata": {
  "kernelspec": {
   "display_name": "Python 3",
   "language": "python",
   "name": "python3"
  },
  "language_info": {
   "codemirror_mode": {
    "name": "ipython",
    "version": 3
   },
   "file_extension": ".py",
   "mimetype": "text/x-python",
   "name": "python",
   "nbconvert_exporter": "python",
   "pygments_lexer": "ipython3",
   "version": "3.6.8"
  }
 },
 "nbformat": 4,
 "nbformat_minor": 1
}
