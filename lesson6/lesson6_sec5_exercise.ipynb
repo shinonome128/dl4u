{
 "cells": [
  {
   "cell_type": "markdown",
   "metadata": {},
   "source": [
    "# Lesson6 ニューラルネットに画像を生成させよう\n",
    "\n",
    "## 目次\n",
    "\n",
    "- Section5 参考\n",
    "  - 5.1 VAE"
   ]
  },
  {
   "cell_type": "code",
   "execution_count": null,
   "metadata": {
    "collapsed": true
   },
   "outputs": [],
   "source": [
    "# MNISTのロードと表示のための関数です。後で使うので読み込んでおいて下さい。\n",
    "from tensorflow.keras.datasets import mnist\n",
    "from tensorflow.keras.datasets import fashion_mnist\n",
    "import numpy as np\n",
    "import matplotlib.pyplot as plt\n",
    "%matplotlib inline\n",
    "\n",
    "def load_mnist(dim=3, data='mnist'):\n",
    "    img_rows, img_cols = 28, 28\n",
    "    \n",
    "    if data == 'mnist':\n",
    "        (x_train, y_train), (x_test, y_test) = mnist.load_data()\n",
    "    else:\n",
    "        (x_train, y_train), (x_test, y_test) = fashion_mnist.load_data()\n",
    "    \n",
    "    if dim == 3:\n",
    "        x_train = x_train.reshape(x_train.shape[0], img_rows, img_cols, 1)\n",
    "        x_test = x_test.reshape(x_test.shape[0], img_rows, img_cols, 1)\n",
    "    else:\n",
    "        x_train = x_train.reshape(x_train.shape[0], img_rows*img_cols)\n",
    "        x_test = x_test.reshape(x_test.shape[0], img_rows*img_cols)\n",
    "        \n",
    "    x_train = x_train.astype('float32') / 255\n",
    "    x_test = x_test.astype('float32') / 255\n",
    "    y_train = np.eye(10)[y_train]\n",
    "    y_test = np.eye(10)[y_test]\n",
    "    \n",
    "    return  x_train, x_test, y_train, y_test"
   ]
  },
  {
   "cell_type": "markdown",
   "metadata": {},
   "source": [
    "### 5.1 VAE"
   ]
  },
  {
   "cell_type": "markdown",
   "metadata": {},
   "source": [
    "今回は深層生成モデルのGANの実装をメインに扱いましたが、深層生成モデルはGANだけではありません。\n",
    "\n",
    "興味のある方は、その例として Variational Auto Encoder (VAE)というモデルを使ってニューラルネットに画像生成に取り組んでみましょう。"
   ]
  },
  {
   "cell_type": "markdown",
   "metadata": {},
   "source": [
    "### 5.1.1 VAEの概要"
   ]
  },
  {
   "cell_type": "markdown",
   "metadata": {},
   "source": [
    "VAEではデータの潜在的な意味を表す潜在変数(z)からデータを生成する確率分布( $p_θ(x|z)$ ) を求めます。\n",
    "\n",
    "潜在的な意味とは、例えばMNISTの手書き文字であれば、文字であることや筆跡などがあたります。\n",
    "以下ではMNISTを例に話を進めていきます。\n",
    "\n",
    "\n",
    "下の図のようにMNISTのデータセットの入力の「1」という手書き文字の画像を潜在変数 **z**に変換し、確率分布　$p_θ(x|z)$　によって入力画像を再現するネットワークを考えます。\n",
    "\n",
    "このとき、入力を潜在変数に変換するネットワークのことを **Encoder**、潜在変数から出力として入力画像を再現するネットワークのことを **Decoder**　といいます。\n",
    "\n",
    "確率分布　$p_θ(x|z)$　を求めることによって任意の潜在変数から手書き文字画像と似た画像を出力出来るようになります。"
   ]
  },
  {
   "cell_type": "markdown",
   "metadata": {},
   "source": [
    "<img src='figures/vae1_var2.png' alt='vae_1'>"
   ]
  },
  {
   "cell_type": "markdown",
   "metadata": {},
   "source": [
    "Encoderでは入力の画像から潜在変数zをサンプルする必要があり、VAEでは潜在変数のガウス分布性を仮定します。\n",
    "\n",
    "そのため、以下のように入力からサンプルするためのパラメータとしてガウス分布の平均と分散を出力することを行います。"
   ]
  },
  {
   "cell_type": "markdown",
   "metadata": {},
   "source": [
    "<img src='figures/vae2_var2.png' alt='vae_2'>"
   ]
  },
  {
   "cell_type": "markdown",
   "metadata": {},
   "source": [
    "以上をふまえて、作成するモデルは以下のようなモデルを構築することになります。"
   ]
  },
  {
   "cell_type": "markdown",
   "metadata": {},
   "source": [
    "<img src='figures/vae_3.png' alt='vae_3'>"
   ]
  },
  {
   "cell_type": "markdown",
   "metadata": {},
   "source": [
    "### 5.1.2 Encoder"
   ]
  },
  {
   "cell_type": "markdown",
   "metadata": {},
   "source": [
    "今回の実装ではEncoderにあたる層は1層のみです。"
   ]
  },
  {
   "cell_type": "code",
   "execution_count": null,
   "metadata": {
    "collapsed": true
   },
   "outputs": [],
   "source": [
    "batch_size = 100\n",
    "original_dim = 784 # 28x28 MNIST| digits\n",
    "latent_dim = 2\n",
    "intermediate_dim = 256"
   ]
  },
  {
   "cell_type": "code",
   "execution_count": null,
   "metadata": {
    "collapsed": true
   },
   "outputs": [],
   "source": [
    "from tensorflow.keras.layers import Input, Dense\n",
    "\n",
    "x = Input(batch_shape=(batch_size, original_dim)) # 入力\n",
    "h = Dense(intermediate_dim, activation='relu')(x) # Encoderの層\n",
    "z_mean = Dense(latent_dim)(h) # 潜在変数の平均 μ\n",
    "z_log_var = Dense(latent_dim)(h) #潜在変数の分散 σのlog"
   ]
  },
  {
   "cell_type": "markdown",
   "metadata": {},
   "source": [
    "### 補足\n",
    "\n",
    "今回はEncoderの出力として分散のlogとして出力を行っていますが、これは分散の値域を正にするためです。分散は $\\log(z\\_log\\_var)$とすることで得られます。\n",
    "また、関数の出力が正となるsoftplus関数を使用して分散も表現することも可能です。\n",
    "softplus関数については[こちら](http://tecmemo.wpblog.jp/2017/01/08/dl_activation-function/)をご参照下さい。"
   ]
  },
  {
   "cell_type": "markdown",
   "metadata": {},
   "source": [
    "### 5.1.3 潜在変数"
   ]
  },
  {
   "cell_type": "markdown",
   "metadata": {},
   "source": [
    "Encoderで出力した平均μと分散σから潜在変数zをサンプリングします。"
   ]
  },
  {
   "cell_type": "code",
   "execution_count": null,
   "metadata": {
    "collapsed": true
   },
   "outputs": [],
   "source": [
    "from tensorflow.keras import backend as K\n",
    "from tensorflow.keras.layers import Lambda\n",
    "\n",
    "# 潜在変数のサンプリング\n",
    "# 平均と分散を受けて、潜在変数をサンプリングします。\n",
    "# z = μ + εΣ\n",
    "# εは標準正規分布\n",
    "def sampling(args):\n",
    "    z_mean, z_log_var = args\n",
    "    epsilon = K.random_normal(shape=(batch_size, latent_dim), mean=0.,\n",
    "                              stddev=1.0)\n",
    "    return z_mean + K.exp(z_log_var) * epsilon"
   ]
  },
  {
   "cell_type": "code",
   "execution_count": null,
   "metadata": {
    "collapsed": true
   },
   "outputs": [],
   "source": [
    "# Lambdaを使って式をwrap\n",
    "z = Lambda(sampling, output_shape=(latent_dim,))([z_mean, z_log_var])"
   ]
  },
  {
   "cell_type": "markdown",
   "metadata": {},
   "source": [
    "### 5.1.4 Decoder"
   ]
  },
  {
   "cell_type": "markdown",
   "metadata": {},
   "source": [
    "潜在変数zから画像を生成するDecoderを定義します。"
   ]
  },
  {
   "cell_type": "code",
   "execution_count": null,
   "metadata": {
    "collapsed": true
   },
   "outputs": [],
   "source": [
    "from tensorflow.keras.layers import Dense\n",
    "\n",
    "decoder_h = Dense(intermediate_dim, activation='relu') # Decoderの中間層\n",
    "decoder_x = Dense(original_dim, activation='sigmoid') # 出力を行うDecoderの層\n",
    "h_decoded = decoder_h(z)\n",
    "x_decoded = decoder_x(h_decoded)"
   ]
  },
  {
   "cell_type": "markdown",
   "metadata": {},
   "source": [
    "### 5.1.5 Loss"
   ]
  },
  {
   "cell_type": "markdown",
   "metadata": {},
   "source": [
    "周辺尤度の変分下界の最大化によって最適化を行います。\n",
    "\n",
    "Lossとしては以下に示す復元誤差と正則化項の和になります。\n",
    "(なお、デコーダにベルヌーイ分布を仮定するため復元誤差は負の交差エントロピー誤差となります。）\n",
    "\n",
    "#### 復元誤差\n",
    "\n",
    "$ \\sum_{k=1}^{n} ( x_k \\log(y_k) + (1-x_k) \\log(1-y_k) ) $\n",
    "\n",
    "#### 正則化項\n",
    "\n",
    "$-\\frac{1}{2}\\sum_{k=1}^{n} ( 1 + \\log(\\sigma_i^2) - \\mu_i^2 - \\sigma_i^2 )$"
   ]
  },
  {
   "cell_type": "markdown",
   "metadata": {},
   "source": [
    "ここでLossを定義するために自作のLayerを用意します。\n",
    "\n",
    "KerasのLayer classを継承したクラスでcallメソッドの中で `add_loss`というメソッドを用いてlossを定義することが出来ます。"
   ]
  },
  {
   "cell_type": "markdown",
   "metadata": {},
   "source": [
    "### 補足: 正則化項の意味\n",
    "\n",
    "#### 1. VAEと多様体学習\n",
    "\n",
    "VAEは多様体学習を行うことを目的としています。例えば、以下のように2次元の空間上にデータを表現出来るようにすることが目的となります。正則化項の制限によってこの多様体の学習がうまく出来るようになります。\n",
    "\n",
    "<img src='figures/vae_suppliment.png' alt='vae_suppliment'>\n",
    "\n",
    "( 引用: [Auto-Encoding Variational Bayes](https://arxiv.org/abs/1312.6114) )\n",
    "\n",
    "\n",
    "#### 2. 正則化項の役割\n",
    "\n",
    "ただし、正則化項が強く作用すると画像の特徴の情報が小さくなるのも確かで、正則化項を段々と強くかける（正則化項に係数をかけて、その係数を学習が進むにつれて0から増やしていく）といった学習方法もあります。\n",
    "また、その係数を1よりもあえて大きく取ることで、disentangleな情報を表現出来ることも知られています(β-VAE)。disentangleな情報が出来るとは例えば以下のように「方向」、「幅」、「脚のスタイル」を多様体学習した潜在変数の軸ごとに獲得出来るということです。\n",
    "\n",
    "<img src='figures/vae_suppliment2.png' alt='vae_suppliment2'>\n",
    "\n",
    "( 引用: [β-VAE: LEARNING BASIC VISUAL CONCEPTS WITH A CONSTRAINED VARIATIONAL FRAMEWORK](https://openreview.net/pdf?id=Sy2fzU9gl))"
   ]
  },
  {
   "cell_type": "code",
   "execution_count": null,
   "metadata": {
    "collapsed": true
   },
   "outputs": [],
   "source": [
    "from tensorflow.keras.layers import Layer\n",
    "from tensorflow.keras import metrics\n",
    "\n",
    "class CustomVariationalLayer(Layer): # Layer classの継承\n",
    "    def __init__(self, **kwargs):\n",
    "        self.is_placeholder = True\n",
    "        super(CustomVariationalLayer, self).__init__(**kwargs)\n",
    "\n",
    "    def vae_loss(self, x, x_decoded):\n",
    "        xent_loss = original_dim * metrics.binary_crossentropy(x, x_decoded) # 復元誤差: Reconstruction Error\n",
    "        kl_loss = - 0.5 * K.sum(1 + z_log_var - K.square(z_mean) - K.exp(z_log_var), axis=-1) # 正則化項: KL Divergence\n",
    "        return K.mean(xent_loss + kl_loss)\n",
    "\n",
    "    def call(self, inputs):\n",
    "        x = inputs[0]\n",
    "        x_decoded = inputs[1]\n",
    "        loss = self.vae_loss(x, x_decoded)\n",
    "        self.add_loss(loss, inputs=inputs) # Layer class のadd_lossを利用\n",
    "        return x # 実質的には出力は利用しない"
   ]
  },
  {
   "cell_type": "code",
   "execution_count": null,
   "metadata": {
    "collapsed": true
   },
   "outputs": [],
   "source": [
    "from tensorflow.keras.models import Model\n",
    "\n",
    "y = CustomVariationalLayer()([x, x_decoded])\n",
    "vae = Model(x, y) # xをinputにyを出力, 出力は実質関係ない\n",
    "vae.compile(optimizer='rmsprop', loss=None) # CustomVariationalLayerで追加したLossを利用するのでここでのlossはNoneとする"
   ]
  },
  {
   "cell_type": "markdown",
   "metadata": {},
   "source": [
    "### 5.1.6 MNISTによる学習"
   ]
  },
  {
   "cell_type": "markdown",
   "metadata": {},
   "source": [
    "MNISTのデータセットによって学習を行います。"
   ]
  },
  {
   "cell_type": "code",
   "execution_count": null,
   "metadata": {
    "collapsed": true
   },
   "outputs": [],
   "source": [
    "x_train, x_test, _, _ = load_mnist(dim=1) # 1次元のmnist dataを読み込む (batch size) x 784"
   ]
  },
  {
   "cell_type": "code",
   "execution_count": null,
   "metadata": {
    "collapsed": true
   },
   "outputs": [],
   "source": [
    "vae.fit(x_train, shuffle=True, epochs=50, batch_size=batch_size, validation_data=(x_test, None), verbose=2)"
   ]
  },
  {
   "cell_type": "markdown",
   "metadata": {},
   "source": [
    "### 5.1.7 手書き文字の生成"
   ]
  },
  {
   "cell_type": "markdown",
   "metadata": {},
   "source": [
    "任意の潜在変数によって手書き文字が出力出来ることを実際に画像を生成して確認してみましょう。"
   ]
  },
  {
   "cell_type": "code",
   "execution_count": null,
   "metadata": {
    "collapsed": true
   },
   "outputs": [],
   "source": [
    "from tensorflow.keras.layers import Input\n",
    "from tensorflow.keras.models import Model\n",
    "\n",
    "# 入力として潜在変数を入れられるようにする\n",
    "decoder_input = Input(shape=(latent_dim,))\n",
    "_h_decoded = decoder_h(decoder_input)\n",
    "_x_decoded = decoder_x(_h_decoded)\n",
    "generator = Model(decoder_input, _x_decoded)"
   ]
  },
  {
   "cell_type": "code",
   "execution_count": null,
   "metadata": {
    "collapsed": true
   },
   "outputs": [],
   "source": [
    "from scipy.stats import norm\n",
    "\n",
    "n = 15\n",
    "digit_size = 28\n",
    "figure = np.zeros((digit_size * n, digit_size * n))\n",
    "\n",
    "# ppf: パーセント点関数\n",
    "\n",
    "grid_x = norm.ppf(np.linspace(0.05, 0.95, n))\n",
    "grid_y = norm.ppf(np.linspace(0.05, 0.95, n))\n",
    "\n",
    "for i, yi in enumerate(grid_x):\n",
    "    for j, xi in enumerate(grid_y):\n",
    "        z_sample = np.array([[xi, yi]])\n",
    "        x_decoded = generator.predict(z_sample) # generatorに指定した潜在変数を入れて出力をみる（この出力が新たに生成された文字にあたる）\n",
    "        digit = x_decoded[0].reshape(digit_size, digit_size)\n",
    "        figure[i * digit_size: (i + 1) * digit_size,\n",
    "               j * digit_size: (j + 1) * digit_size] = digit\n",
    "\n",
    "plt.figure(figsize=(10, 10))\n",
    "plt.imshow(figure, cmap='Greys_r')\n",
    "plt.show()"
   ]
  }
 ],
 "metadata": {
  "kernelspec": {
   "display_name": "Python 3",
   "language": "python",
   "name": "python3"
  },
  "language_info": {
   "codemirror_mode": {
    "name": "ipython",
    "version": 3
   },
   "file_extension": ".py",
   "mimetype": "text/x-python",
   "name": "python",
   "nbconvert_exporter": "python",
   "pygments_lexer": "ipython3",
   "version": "3.6.8"
  }
 },
 "nbformat": 4,
 "nbformat_minor": 1
}
